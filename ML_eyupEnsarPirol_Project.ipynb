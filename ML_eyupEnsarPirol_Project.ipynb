{
 "cells": [
  {
   "cell_type": "markdown",
   "metadata": {
    "id": "O4XBF62a4AQ-"
   },
   "source": [
    "Importing libraries"
   ]
  },
  {
   "cell_type": "code",
   "execution_count": 1,
   "metadata": {
    "id": "2vYkGV-z09ID"
   },
   "outputs": [],
   "source": [
    "%matplotlib inline\n",
    "%load_ext autoreload\n",
    "%autoreload 2\n",
    "import os, sys, glob\n",
    "import gzip\n",
    "import random\n",
    "import tqdm\n",
    "import json\n",
    "import numpy as np\n",
    "import pandas as pd\n",
    "pd.set_option(\"display.max_columns\", None)\n",
    "\n",
    "from IPython import display\n",
    "import matplotlib as mpl\n",
    "from matplotlib import pyplot as plt\n",
    "from google.colab import drive\n",
    "from datetime import datetime"
   ]
  },
  {
   "cell_type": "code",
   "execution_count": 2,
   "metadata": {
    "id": "u-_DG-ik977J"
   },
   "outputs": [],
   "source": [
    "import pandas as pd\n",
    "import numpy as np\n",
    "import matplotlib.pyplot as plt\n",
    "import seaborn as sns\n",
    "import plotly.express as px\n",
    "sns.set()\n",
    "\n",
    "from scipy.stats import probplot, boxcox\n",
    "from scipy.special import inv_boxcox\n",
    "import pylab\n",
    "\n",
    "from sklearn.preprocessing import StandardScaler\n",
    "from sklearn.model_selection import train_test_split, cross_val_score, KFold\n",
    "from sklearn.linear_model import Ridge, Lasso, BayesianRidge\n",
    "from sklearn.neighbors import KNeighborsRegressor\n",
    "from sklearn.ensemble import RandomForestRegressor, GradientBoostingRegressor\n",
    "from sklearn.svm import SVR\n",
    "\n",
    "from lightgbm import LGBMRegressor\n",
    "from xgboost import XGBRegressor\n"
   ]
  },
  {
   "cell_type": "code",
   "execution_count": 3,
   "metadata": {
    "colab": {
     "base_uri": "https://localhost:8080/"
    },
    "id": "XWncuhfP4GSA",
    "outputId": "154076b1-8832-4e0b-92cf-6d2962a51eb0"
   },
   "outputs": [
    {
     "output_type": "stream",
     "name": "stdout",
     "text": [
      "Mounted at /content/drive\n"
     ]
    }
   ],
   "source": [
    "from google.colab import drive\n",
    "drive.mount('/content/drive')\n",
    "DATA_PATH = '/content/drive/MyDrive/Colab_Notebooks/ML-Eyüp-012023/'"
   ]
  },
  {
   "cell_type": "code",
   "execution_count": 4,
   "metadata": {
    "colab": {
     "base_uri": "https://localhost:8080/",
     "height": 600
    },
    "id": "Tw2aecuY4uUa",
    "outputId": "9f087e34-b3ff-4169-da8b-77ac82f8410d"
   },
   "outputs": [
    {
     "output_type": "execute_result",
     "data": {
      "text/plain": [
       "              id                category  \\\n",
       "6252  5509158654  housing/rent/apartment   \n",
       "4684  5668638788  housing/rent/apartment   \n",
       "1731  5668622404  housing/rent/apartment   \n",
       "4742  5509154930  housing/rent/apartment   \n",
       "4521  5668635773  housing/rent/apartment   \n",
       "\n",
       "                                                  title  \\\n",
       "6252  Lease Spacious 2+2. Approx 930 sf of Living Sp...   \n",
       "4684                             Two BR 15 Union Street   \n",
       "1731                   Studio apartment 20-28 E Daniels   \n",
       "4742  One BR - Welcome to Spring Creek of Edmond Apa...   \n",
       "4521                       One BR 691 BLOOMFIELD AVENUE   \n",
       "\n",
       "                                                   body  \\\n",
       "6252  Come see all of the new and exciting improveme...   \n",
       "4684  This unit is located at fifteen Union Street, ...   \n",
       "1731  This unit is located at 20-28 E Daniels, Cinci...   \n",
       "4742  Square footage: 790 sq-ft, unit number: 320. W...   \n",
       "4521  This unit is located at 691 BLOOMFIELD AVENUE,...   \n",
       "\n",
       "                                              amenities  bathrooms  bedrooms  \\\n",
       "6252    Clubhouse,Gym,Parking,Patio/Deck,Storage,Tennis        2.0       2.0   \n",
       "4684                                                NaN        1.0       2.0   \n",
       "1731  Cable or Satellite,Dishwasher,Garbage Disposal...        1.0       2.0   \n",
       "4742  Fireplace,Garbage Disposal,Gym,Patio/Deck,Pool...        1.0       1.0   \n",
       "4521                                                NaN        1.0       1.0   \n",
       "\n",
       "     currency fee  has_photo pets_allowed  price price_display price_type  \\\n",
       "6252      USD  No        Yes          NaN    965          $965    Monthly   \n",
       "4684      USD  No  Thumbnail         None   1875        $1,875    Monthly   \n",
       "1731      USD  No  Thumbnail    Cats,Dogs    985          $985    Monthly   \n",
       "4742      USD  No  Thumbnail    Cats,Dogs    719          $719    Monthly   \n",
       "4521      USD  No  Thumbnail         Cats   2250        $2,250    Monthly   \n",
       "\n",
       "      square_feet             address       cityname state  latitude  \\\n",
       "6252          930                 NaN         Durham    NC   36.0514   \n",
       "4684          786         15 Union St  New Brunswick    NJ   40.4841   \n",
       "1731          585     20-28 E Daniels     Cincinnati    OH   39.1679   \n",
       "4742          790                 NaN         Edmond    OK   35.6217   \n",
       "4521          775  691 Bloomfield Ave      Montclair    NJ   40.8206   \n",
       "\n",
       "      longitude        source        time  \n",
       "6252   -78.8807  RentDigs.com  1568777002  \n",
       "4684   -74.4526     RentLingo  1577360262  \n",
       "1731   -84.4933     RentLingo  1577359119  \n",
       "4742   -97.4702  RentDigs.com  1568776675  \n",
       "4521   -74.2133     RentLingo  1577360064  "
      ],
      "text/html": [
       "\n",
       "\n",
       "  <div id=\"df-24e2f976-558a-4fe1-a3ee-37e4b71f7be2\">\n",
       "    <div class=\"colab-df-container\">\n",
       "      <div>\n",
       "<style scoped>\n",
       "    .dataframe tbody tr th:only-of-type {\n",
       "        vertical-align: middle;\n",
       "    }\n",
       "\n",
       "    .dataframe tbody tr th {\n",
       "        vertical-align: top;\n",
       "    }\n",
       "\n",
       "    .dataframe thead th {\n",
       "        text-align: right;\n",
       "    }\n",
       "</style>\n",
       "<table border=\"1\" class=\"dataframe\">\n",
       "  <thead>\n",
       "    <tr style=\"text-align: right;\">\n",
       "      <th></th>\n",
       "      <th>id</th>\n",
       "      <th>category</th>\n",
       "      <th>title</th>\n",
       "      <th>body</th>\n",
       "      <th>amenities</th>\n",
       "      <th>bathrooms</th>\n",
       "      <th>bedrooms</th>\n",
       "      <th>currency</th>\n",
       "      <th>fee</th>\n",
       "      <th>has_photo</th>\n",
       "      <th>pets_allowed</th>\n",
       "      <th>price</th>\n",
       "      <th>price_display</th>\n",
       "      <th>price_type</th>\n",
       "      <th>square_feet</th>\n",
       "      <th>address</th>\n",
       "      <th>cityname</th>\n",
       "      <th>state</th>\n",
       "      <th>latitude</th>\n",
       "      <th>longitude</th>\n",
       "      <th>source</th>\n",
       "      <th>time</th>\n",
       "    </tr>\n",
       "  </thead>\n",
       "  <tbody>\n",
       "    <tr>\n",
       "      <th>6252</th>\n",
       "      <td>5509158654</td>\n",
       "      <td>housing/rent/apartment</td>\n",
       "      <td>Lease Spacious 2+2. Approx 930 sf of Living Sp...</td>\n",
       "      <td>Come see all of the new and exciting improveme...</td>\n",
       "      <td>Clubhouse,Gym,Parking,Patio/Deck,Storage,Tennis</td>\n",
       "      <td>2.0</td>\n",
       "      <td>2.0</td>\n",
       "      <td>USD</td>\n",
       "      <td>No</td>\n",
       "      <td>Yes</td>\n",
       "      <td>NaN</td>\n",
       "      <td>965</td>\n",
       "      <td>$965</td>\n",
       "      <td>Monthly</td>\n",
       "      <td>930</td>\n",
       "      <td>NaN</td>\n",
       "      <td>Durham</td>\n",
       "      <td>NC</td>\n",
       "      <td>36.0514</td>\n",
       "      <td>-78.8807</td>\n",
       "      <td>RentDigs.com</td>\n",
       "      <td>1568777002</td>\n",
       "    </tr>\n",
       "    <tr>\n",
       "      <th>4684</th>\n",
       "      <td>5668638788</td>\n",
       "      <td>housing/rent/apartment</td>\n",
       "      <td>Two BR 15 Union Street</td>\n",
       "      <td>This unit is located at fifteen Union Street, ...</td>\n",
       "      <td>NaN</td>\n",
       "      <td>1.0</td>\n",
       "      <td>2.0</td>\n",
       "      <td>USD</td>\n",
       "      <td>No</td>\n",
       "      <td>Thumbnail</td>\n",
       "      <td>None</td>\n",
       "      <td>1875</td>\n",
       "      <td>$1,875</td>\n",
       "      <td>Monthly</td>\n",
       "      <td>786</td>\n",
       "      <td>15 Union St</td>\n",
       "      <td>New Brunswick</td>\n",
       "      <td>NJ</td>\n",
       "      <td>40.4841</td>\n",
       "      <td>-74.4526</td>\n",
       "      <td>RentLingo</td>\n",
       "      <td>1577360262</td>\n",
       "    </tr>\n",
       "    <tr>\n",
       "      <th>1731</th>\n",
       "      <td>5668622404</td>\n",
       "      <td>housing/rent/apartment</td>\n",
       "      <td>Studio apartment 20-28 E Daniels</td>\n",
       "      <td>This unit is located at 20-28 E Daniels, Cinci...</td>\n",
       "      <td>Cable or Satellite,Dishwasher,Garbage Disposal...</td>\n",
       "      <td>1.0</td>\n",
       "      <td>2.0</td>\n",
       "      <td>USD</td>\n",
       "      <td>No</td>\n",
       "      <td>Thumbnail</td>\n",
       "      <td>Cats,Dogs</td>\n",
       "      <td>985</td>\n",
       "      <td>$985</td>\n",
       "      <td>Monthly</td>\n",
       "      <td>585</td>\n",
       "      <td>20-28 E Daniels</td>\n",
       "      <td>Cincinnati</td>\n",
       "      <td>OH</td>\n",
       "      <td>39.1679</td>\n",
       "      <td>-84.4933</td>\n",
       "      <td>RentLingo</td>\n",
       "      <td>1577359119</td>\n",
       "    </tr>\n",
       "    <tr>\n",
       "      <th>4742</th>\n",
       "      <td>5509154930</td>\n",
       "      <td>housing/rent/apartment</td>\n",
       "      <td>One BR - Welcome to Spring Creek of Edmond Apa...</td>\n",
       "      <td>Square footage: 790 sq-ft, unit number: 320. W...</td>\n",
       "      <td>Fireplace,Garbage Disposal,Gym,Patio/Deck,Pool...</td>\n",
       "      <td>1.0</td>\n",
       "      <td>1.0</td>\n",
       "      <td>USD</td>\n",
       "      <td>No</td>\n",
       "      <td>Thumbnail</td>\n",
       "      <td>Cats,Dogs</td>\n",
       "      <td>719</td>\n",
       "      <td>$719</td>\n",
       "      <td>Monthly</td>\n",
       "      <td>790</td>\n",
       "      <td>NaN</td>\n",
       "      <td>Edmond</td>\n",
       "      <td>OK</td>\n",
       "      <td>35.6217</td>\n",
       "      <td>-97.4702</td>\n",
       "      <td>RentDigs.com</td>\n",
       "      <td>1568776675</td>\n",
       "    </tr>\n",
       "    <tr>\n",
       "      <th>4521</th>\n",
       "      <td>5668635773</td>\n",
       "      <td>housing/rent/apartment</td>\n",
       "      <td>One BR 691 BLOOMFIELD AVENUE</td>\n",
       "      <td>This unit is located at 691 BLOOMFIELD AVENUE,...</td>\n",
       "      <td>NaN</td>\n",
       "      <td>1.0</td>\n",
       "      <td>1.0</td>\n",
       "      <td>USD</td>\n",
       "      <td>No</td>\n",
       "      <td>Thumbnail</td>\n",
       "      <td>Cats</td>\n",
       "      <td>2250</td>\n",
       "      <td>$2,250</td>\n",
       "      <td>Monthly</td>\n",
       "      <td>775</td>\n",
       "      <td>691 Bloomfield Ave</td>\n",
       "      <td>Montclair</td>\n",
       "      <td>NJ</td>\n",
       "      <td>40.8206</td>\n",
       "      <td>-74.2133</td>\n",
       "      <td>RentLingo</td>\n",
       "      <td>1577360064</td>\n",
       "    </tr>\n",
       "  </tbody>\n",
       "</table>\n",
       "</div>\n",
       "      <button class=\"colab-df-convert\" onclick=\"convertToInteractive('df-24e2f976-558a-4fe1-a3ee-37e4b71f7be2')\"\n",
       "              title=\"Convert this dataframe to an interactive table.\"\n",
       "              style=\"display:none;\">\n",
       "\n",
       "  <svg xmlns=\"http://www.w3.org/2000/svg\" height=\"24px\"viewBox=\"0 0 24 24\"\n",
       "       width=\"24px\">\n",
       "    <path d=\"M0 0h24v24H0V0z\" fill=\"none\"/>\n",
       "    <path d=\"M18.56 5.44l.94 2.06.94-2.06 2.06-.94-2.06-.94-.94-2.06-.94 2.06-2.06.94zm-11 1L8.5 8.5l.94-2.06 2.06-.94-2.06-.94L8.5 2.5l-.94 2.06-2.06.94zm10 10l.94 2.06.94-2.06 2.06-.94-2.06-.94-.94-2.06-.94 2.06-2.06.94z\"/><path d=\"M17.41 7.96l-1.37-1.37c-.4-.4-.92-.59-1.43-.59-.52 0-1.04.2-1.43.59L10.3 9.45l-7.72 7.72c-.78.78-.78 2.05 0 2.83L4 21.41c.39.39.9.59 1.41.59.51 0 1.02-.2 1.41-.59l7.78-7.78 2.81-2.81c.8-.78.8-2.07 0-2.86zM5.41 20L4 18.59l7.72-7.72 1.47 1.35L5.41 20z\"/>\n",
       "  </svg>\n",
       "      </button>\n",
       "\n",
       "\n",
       "\n",
       "    <div id=\"df-7495f440-51b4-4bbd-b8a0-ad6de40b9f21\">\n",
       "      <button class=\"colab-df-quickchart\" onclick=\"quickchart('df-7495f440-51b4-4bbd-b8a0-ad6de40b9f21')\"\n",
       "              title=\"Suggest charts.\"\n",
       "              style=\"display:none;\">\n",
       "\n",
       "<svg xmlns=\"http://www.w3.org/2000/svg\" height=\"24px\"viewBox=\"0 0 24 24\"\n",
       "     width=\"24px\">\n",
       "    <g>\n",
       "        <path d=\"M19 3H5c-1.1 0-2 .9-2 2v14c0 1.1.9 2 2 2h14c1.1 0 2-.9 2-2V5c0-1.1-.9-2-2-2zM9 17H7v-7h2v7zm4 0h-2V7h2v10zm4 0h-2v-4h2v4z\"/>\n",
       "    </g>\n",
       "</svg>\n",
       "      </button>\n",
       "    </div>\n",
       "\n",
       "<style>\n",
       "  .colab-df-quickchart {\n",
       "    background-color: #E8F0FE;\n",
       "    border: none;\n",
       "    border-radius: 50%;\n",
       "    cursor: pointer;\n",
       "    display: none;\n",
       "    fill: #1967D2;\n",
       "    height: 32px;\n",
       "    padding: 0 0 0 0;\n",
       "    width: 32px;\n",
       "  }\n",
       "\n",
       "  .colab-df-quickchart:hover {\n",
       "    background-color: #E2EBFA;\n",
       "    box-shadow: 0px 1px 2px rgba(60, 64, 67, 0.3), 0px 1px 3px 1px rgba(60, 64, 67, 0.15);\n",
       "    fill: #174EA6;\n",
       "  }\n",
       "\n",
       "  [theme=dark] .colab-df-quickchart {\n",
       "    background-color: #3B4455;\n",
       "    fill: #D2E3FC;\n",
       "  }\n",
       "\n",
       "  [theme=dark] .colab-df-quickchart:hover {\n",
       "    background-color: #434B5C;\n",
       "    box-shadow: 0px 1px 3px 1px rgba(0, 0, 0, 0.15);\n",
       "    filter: drop-shadow(0px 1px 2px rgba(0, 0, 0, 0.3));\n",
       "    fill: #FFFFFF;\n",
       "  }\n",
       "</style>\n",
       "\n",
       "    <script>\n",
       "      async function quickchart(key) {\n",
       "        const containerElement = document.querySelector('#' + key);\n",
       "        const charts = await google.colab.kernel.invokeFunction(\n",
       "            'suggestCharts', [key], {});\n",
       "      }\n",
       "    </script>\n",
       "\n",
       "      <script>\n",
       "\n",
       "function displayQuickchartButton(domScope) {\n",
       "  let quickchartButtonEl =\n",
       "    domScope.querySelector('#df-7495f440-51b4-4bbd-b8a0-ad6de40b9f21 button.colab-df-quickchart');\n",
       "  quickchartButtonEl.style.display =\n",
       "    google.colab.kernel.accessAllowed ? 'block' : 'none';\n",
       "}\n",
       "\n",
       "        displayQuickchartButton(document);\n",
       "      </script>\n",
       "      <style>\n",
       "    .colab-df-container {\n",
       "      display:flex;\n",
       "      flex-wrap:wrap;\n",
       "      gap: 12px;\n",
       "    }\n",
       "\n",
       "    .colab-df-convert {\n",
       "      background-color: #E8F0FE;\n",
       "      border: none;\n",
       "      border-radius: 50%;\n",
       "      cursor: pointer;\n",
       "      display: none;\n",
       "      fill: #1967D2;\n",
       "      height: 32px;\n",
       "      padding: 0 0 0 0;\n",
       "      width: 32px;\n",
       "    }\n",
       "\n",
       "    .colab-df-convert:hover {\n",
       "      background-color: #E2EBFA;\n",
       "      box-shadow: 0px 1px 2px rgba(60, 64, 67, 0.3), 0px 1px 3px 1px rgba(60, 64, 67, 0.15);\n",
       "      fill: #174EA6;\n",
       "    }\n",
       "\n",
       "    [theme=dark] .colab-df-convert {\n",
       "      background-color: #3B4455;\n",
       "      fill: #D2E3FC;\n",
       "    }\n",
       "\n",
       "    [theme=dark] .colab-df-convert:hover {\n",
       "      background-color: #434B5C;\n",
       "      box-shadow: 0px 1px 3px 1px rgba(0, 0, 0, 0.15);\n",
       "      filter: drop-shadow(0px 1px 2px rgba(0, 0, 0, 0.3));\n",
       "      fill: #FFFFFF;\n",
       "    }\n",
       "  </style>\n",
       "\n",
       "      <script>\n",
       "        const buttonEl =\n",
       "          document.querySelector('#df-24e2f976-558a-4fe1-a3ee-37e4b71f7be2 button.colab-df-convert');\n",
       "        buttonEl.style.display =\n",
       "          google.colab.kernel.accessAllowed ? 'block' : 'none';\n",
       "\n",
       "        async function convertToInteractive(key) {\n",
       "          const element = document.querySelector('#df-24e2f976-558a-4fe1-a3ee-37e4b71f7be2');\n",
       "          const dataTable =\n",
       "            await google.colab.kernel.invokeFunction('convertToInteractive',\n",
       "                                                     [key], {});\n",
       "          if (!dataTable) return;\n",
       "\n",
       "          const docLinkHtml = 'Like what you see? Visit the ' +\n",
       "            '<a target=\"_blank\" href=https://colab.research.google.com/notebooks/data_table.ipynb>data table notebook</a>'\n",
       "            + ' to learn more about interactive tables.';\n",
       "          element.innerHTML = '';\n",
       "          dataTable['output_type'] = 'display_data';\n",
       "          await google.colab.output.renderOutput(dataTable, element);\n",
       "          const docLink = document.createElement('div');\n",
       "          docLink.innerHTML = docLinkHtml;\n",
       "          element.appendChild(docLink);\n",
       "        }\n",
       "      </script>\n",
       "    </div>\n",
       "  </div>\n"
      ]
     },
     "metadata": {},
     "execution_count": 4
    }
   ],
   "source": [
    "data = pd.read_csv('{}apartments_for_rent_classified_10K.csv'.format(DATA_PATH),encoding='ISO-8859-1', sep=';')\n",
    "\n",
    "data = data.sample(2000, random_state=42)\n",
    "data.head()"
   ]
  },
  {
   "cell_type": "code",
   "execution_count": 5,
   "metadata": {
    "colab": {
     "base_uri": "https://localhost:8080/"
    },
    "id": "itbF3ikB6jMT",
    "outputId": "13c6d6fb-986f-46bd-ec5a-19ceb93a3991"
   },
   "outputs": [
    {
     "output_type": "stream",
     "name": "stdout",
     "text": [
      "Number of rows in the dataset: 2000\n",
      "Number of columns in the dataset: 22\n"
     ]
    }
   ],
   "source": [
    "print(f'Number of rows in the dataset: {data.shape[0]}')\n",
    "print(f'Number of columns in the dataset: {data.shape[1]}')"
   ]
  },
  {
   "cell_type": "code",
   "execution_count": 6,
   "metadata": {
    "colab": {
     "base_uri": "https://localhost:8080/"
    },
    "id": "8kbcLEQQ6mYD",
    "outputId": "7774a502-cac9-4217-ed66-83cbbc5acc99"
   },
   "outputs": [
    {
     "output_type": "stream",
     "name": "stdout",
     "text": [
      "<class 'pandas.core.frame.DataFrame'>\n",
      "Int64Index: 2000 entries, 6252 to 6929\n",
      "Data columns (total 22 columns):\n",
      " #   Column         Non-Null Count  Dtype  \n",
      "---  ------         --------------  -----  \n",
      " 0   id             2000 non-null   int64  \n",
      " 1   category       2000 non-null   object \n",
      " 2   title          2000 non-null   object \n",
      " 3   body           2000 non-null   object \n",
      " 4   amenities      1301 non-null   object \n",
      " 5   bathrooms      1992 non-null   float64\n",
      " 6   bedrooms       2000 non-null   float64\n",
      " 7   currency       2000 non-null   object \n",
      " 8   fee            2000 non-null   object \n",
      " 9   has_photo      2000 non-null   object \n",
      " 10  pets_allowed   1665 non-null   object \n",
      " 11  price          2000 non-null   int64  \n",
      " 12  price_display  2000 non-null   object \n",
      " 13  price_type     2000 non-null   object \n",
      " 14  square_feet    2000 non-null   int64  \n",
      " 15  address        1337 non-null   object \n",
      " 16  cityname       1979 non-null   object \n",
      " 17  state          1979 non-null   object \n",
      " 18  latitude       1995 non-null   float64\n",
      " 19  longitude      1995 non-null   float64\n",
      " 20  source         2000 non-null   object \n",
      " 21  time           2000 non-null   int64  \n",
      "dtypes: float64(4), int64(4), object(14)\n",
      "memory usage: 359.4+ KB\n"
     ]
    }
   ],
   "source": [
    "data.info()"
   ]
  },
  {
   "cell_type": "code",
   "execution_count": 7,
   "metadata": {
    "colab": {
     "base_uri": "https://localhost:8080/",
     "height": 300
    },
    "id": "0b4KMNDJ7HRA",
    "outputId": "e76465a1-8207-4ec3-c1c0-5edd8d7b724d"
   },
   "outputs": [
    {
     "output_type": "execute_result",
     "data": {
      "text/plain": [
       "                 id    bathrooms     bedrooms         price   square_feet  \\\n",
       "count  2.000000e+03  1992.000000  2000.000000   2000.000000   2000.000000   \n",
       "mean   5.624030e+09     1.376757     1.726000   1462.890500    947.293500   \n",
       "std    6.993806e+07     0.609853     0.907378    943.424514   1007.486067   \n",
       "min    5.508654e+09     1.000000     0.000000    325.000000    101.000000   \n",
       "25%    5.509256e+09     1.000000     1.000000    935.000000    645.750000   \n",
       "50%    5.668583e+09     1.000000     2.000000   1246.500000    800.000000   \n",
       "75%    5.668627e+09     2.000000     2.000000   1679.000000   1100.000000   \n",
       "max    5.668663e+09     5.000000     6.000000  14950.000000  40000.000000   \n",
       "\n",
       "          latitude    longitude          time  \n",
       "count  1995.000000  1995.000000  2.000000e+03  \n",
       "mean     37.927308   -93.976139  1.574923e+09  \n",
       "std       5.442771    15.548305  3.747364e+06  \n",
       "min      21.315500  -157.837900  1.568744e+09  \n",
       "25%      33.841950   -98.525300  1.568781e+09  \n",
       "50%      38.941400   -93.302300  1.577356e+09  \n",
       "75%      41.602050   -81.583200  1.577359e+09  \n",
       "max      61.318600   -70.355900  1.577362e+09  "
      ],
      "text/html": [
       "\n",
       "\n",
       "  <div id=\"df-e2b3f3ce-2db2-419d-8e60-691b3c42aea1\">\n",
       "    <div class=\"colab-df-container\">\n",
       "      <div>\n",
       "<style scoped>\n",
       "    .dataframe tbody tr th:only-of-type {\n",
       "        vertical-align: middle;\n",
       "    }\n",
       "\n",
       "    .dataframe tbody tr th {\n",
       "        vertical-align: top;\n",
       "    }\n",
       "\n",
       "    .dataframe thead th {\n",
       "        text-align: right;\n",
       "    }\n",
       "</style>\n",
       "<table border=\"1\" class=\"dataframe\">\n",
       "  <thead>\n",
       "    <tr style=\"text-align: right;\">\n",
       "      <th></th>\n",
       "      <th>id</th>\n",
       "      <th>bathrooms</th>\n",
       "      <th>bedrooms</th>\n",
       "      <th>price</th>\n",
       "      <th>square_feet</th>\n",
       "      <th>latitude</th>\n",
       "      <th>longitude</th>\n",
       "      <th>time</th>\n",
       "    </tr>\n",
       "  </thead>\n",
       "  <tbody>\n",
       "    <tr>\n",
       "      <th>count</th>\n",
       "      <td>2.000000e+03</td>\n",
       "      <td>1992.000000</td>\n",
       "      <td>2000.000000</td>\n",
       "      <td>2000.000000</td>\n",
       "      <td>2000.000000</td>\n",
       "      <td>1995.000000</td>\n",
       "      <td>1995.000000</td>\n",
       "      <td>2.000000e+03</td>\n",
       "    </tr>\n",
       "    <tr>\n",
       "      <th>mean</th>\n",
       "      <td>5.624030e+09</td>\n",
       "      <td>1.376757</td>\n",
       "      <td>1.726000</td>\n",
       "      <td>1462.890500</td>\n",
       "      <td>947.293500</td>\n",
       "      <td>37.927308</td>\n",
       "      <td>-93.976139</td>\n",
       "      <td>1.574923e+09</td>\n",
       "    </tr>\n",
       "    <tr>\n",
       "      <th>std</th>\n",
       "      <td>6.993806e+07</td>\n",
       "      <td>0.609853</td>\n",
       "      <td>0.907378</td>\n",
       "      <td>943.424514</td>\n",
       "      <td>1007.486067</td>\n",
       "      <td>5.442771</td>\n",
       "      <td>15.548305</td>\n",
       "      <td>3.747364e+06</td>\n",
       "    </tr>\n",
       "    <tr>\n",
       "      <th>min</th>\n",
       "      <td>5.508654e+09</td>\n",
       "      <td>1.000000</td>\n",
       "      <td>0.000000</td>\n",
       "      <td>325.000000</td>\n",
       "      <td>101.000000</td>\n",
       "      <td>21.315500</td>\n",
       "      <td>-157.837900</td>\n",
       "      <td>1.568744e+09</td>\n",
       "    </tr>\n",
       "    <tr>\n",
       "      <th>25%</th>\n",
       "      <td>5.509256e+09</td>\n",
       "      <td>1.000000</td>\n",
       "      <td>1.000000</td>\n",
       "      <td>935.000000</td>\n",
       "      <td>645.750000</td>\n",
       "      <td>33.841950</td>\n",
       "      <td>-98.525300</td>\n",
       "      <td>1.568781e+09</td>\n",
       "    </tr>\n",
       "    <tr>\n",
       "      <th>50%</th>\n",
       "      <td>5.668583e+09</td>\n",
       "      <td>1.000000</td>\n",
       "      <td>2.000000</td>\n",
       "      <td>1246.500000</td>\n",
       "      <td>800.000000</td>\n",
       "      <td>38.941400</td>\n",
       "      <td>-93.302300</td>\n",
       "      <td>1.577356e+09</td>\n",
       "    </tr>\n",
       "    <tr>\n",
       "      <th>75%</th>\n",
       "      <td>5.668627e+09</td>\n",
       "      <td>2.000000</td>\n",
       "      <td>2.000000</td>\n",
       "      <td>1679.000000</td>\n",
       "      <td>1100.000000</td>\n",
       "      <td>41.602050</td>\n",
       "      <td>-81.583200</td>\n",
       "      <td>1.577359e+09</td>\n",
       "    </tr>\n",
       "    <tr>\n",
       "      <th>max</th>\n",
       "      <td>5.668663e+09</td>\n",
       "      <td>5.000000</td>\n",
       "      <td>6.000000</td>\n",
       "      <td>14950.000000</td>\n",
       "      <td>40000.000000</td>\n",
       "      <td>61.318600</td>\n",
       "      <td>-70.355900</td>\n",
       "      <td>1.577362e+09</td>\n",
       "    </tr>\n",
       "  </tbody>\n",
       "</table>\n",
       "</div>\n",
       "      <button class=\"colab-df-convert\" onclick=\"convertToInteractive('df-e2b3f3ce-2db2-419d-8e60-691b3c42aea1')\"\n",
       "              title=\"Convert this dataframe to an interactive table.\"\n",
       "              style=\"display:none;\">\n",
       "\n",
       "  <svg xmlns=\"http://www.w3.org/2000/svg\" height=\"24px\"viewBox=\"0 0 24 24\"\n",
       "       width=\"24px\">\n",
       "    <path d=\"M0 0h24v24H0V0z\" fill=\"none\"/>\n",
       "    <path d=\"M18.56 5.44l.94 2.06.94-2.06 2.06-.94-2.06-.94-.94-2.06-.94 2.06-2.06.94zm-11 1L8.5 8.5l.94-2.06 2.06-.94-2.06-.94L8.5 2.5l-.94 2.06-2.06.94zm10 10l.94 2.06.94-2.06 2.06-.94-2.06-.94-.94-2.06-.94 2.06-2.06.94z\"/><path d=\"M17.41 7.96l-1.37-1.37c-.4-.4-.92-.59-1.43-.59-.52 0-1.04.2-1.43.59L10.3 9.45l-7.72 7.72c-.78.78-.78 2.05 0 2.83L4 21.41c.39.39.9.59 1.41.59.51 0 1.02-.2 1.41-.59l7.78-7.78 2.81-2.81c.8-.78.8-2.07 0-2.86zM5.41 20L4 18.59l7.72-7.72 1.47 1.35L5.41 20z\"/>\n",
       "  </svg>\n",
       "      </button>\n",
       "\n",
       "\n",
       "\n",
       "    <div id=\"df-013e5cf5-dcdc-4c05-b1cc-3c2974d0a7e5\">\n",
       "      <button class=\"colab-df-quickchart\" onclick=\"quickchart('df-013e5cf5-dcdc-4c05-b1cc-3c2974d0a7e5')\"\n",
       "              title=\"Suggest charts.\"\n",
       "              style=\"display:none;\">\n",
       "\n",
       "<svg xmlns=\"http://www.w3.org/2000/svg\" height=\"24px\"viewBox=\"0 0 24 24\"\n",
       "     width=\"24px\">\n",
       "    <g>\n",
       "        <path d=\"M19 3H5c-1.1 0-2 .9-2 2v14c0 1.1.9 2 2 2h14c1.1 0 2-.9 2-2V5c0-1.1-.9-2-2-2zM9 17H7v-7h2v7zm4 0h-2V7h2v10zm4 0h-2v-4h2v4z\"/>\n",
       "    </g>\n",
       "</svg>\n",
       "      </button>\n",
       "    </div>\n",
       "\n",
       "<style>\n",
       "  .colab-df-quickchart {\n",
       "    background-color: #E8F0FE;\n",
       "    border: none;\n",
       "    border-radius: 50%;\n",
       "    cursor: pointer;\n",
       "    display: none;\n",
       "    fill: #1967D2;\n",
       "    height: 32px;\n",
       "    padding: 0 0 0 0;\n",
       "    width: 32px;\n",
       "  }\n",
       "\n",
       "  .colab-df-quickchart:hover {\n",
       "    background-color: #E2EBFA;\n",
       "    box-shadow: 0px 1px 2px rgba(60, 64, 67, 0.3), 0px 1px 3px 1px rgba(60, 64, 67, 0.15);\n",
       "    fill: #174EA6;\n",
       "  }\n",
       "\n",
       "  [theme=dark] .colab-df-quickchart {\n",
       "    background-color: #3B4455;\n",
       "    fill: #D2E3FC;\n",
       "  }\n",
       "\n",
       "  [theme=dark] .colab-df-quickchart:hover {\n",
       "    background-color: #434B5C;\n",
       "    box-shadow: 0px 1px 3px 1px rgba(0, 0, 0, 0.15);\n",
       "    filter: drop-shadow(0px 1px 2px rgba(0, 0, 0, 0.3));\n",
       "    fill: #FFFFFF;\n",
       "  }\n",
       "</style>\n",
       "\n",
       "    <script>\n",
       "      async function quickchart(key) {\n",
       "        const containerElement = document.querySelector('#' + key);\n",
       "        const charts = await google.colab.kernel.invokeFunction(\n",
       "            'suggestCharts', [key], {});\n",
       "      }\n",
       "    </script>\n",
       "\n",
       "      <script>\n",
       "\n",
       "function displayQuickchartButton(domScope) {\n",
       "  let quickchartButtonEl =\n",
       "    domScope.querySelector('#df-013e5cf5-dcdc-4c05-b1cc-3c2974d0a7e5 button.colab-df-quickchart');\n",
       "  quickchartButtonEl.style.display =\n",
       "    google.colab.kernel.accessAllowed ? 'block' : 'none';\n",
       "}\n",
       "\n",
       "        displayQuickchartButton(document);\n",
       "      </script>\n",
       "      <style>\n",
       "    .colab-df-container {\n",
       "      display:flex;\n",
       "      flex-wrap:wrap;\n",
       "      gap: 12px;\n",
       "    }\n",
       "\n",
       "    .colab-df-convert {\n",
       "      background-color: #E8F0FE;\n",
       "      border: none;\n",
       "      border-radius: 50%;\n",
       "      cursor: pointer;\n",
       "      display: none;\n",
       "      fill: #1967D2;\n",
       "      height: 32px;\n",
       "      padding: 0 0 0 0;\n",
       "      width: 32px;\n",
       "    }\n",
       "\n",
       "    .colab-df-convert:hover {\n",
       "      background-color: #E2EBFA;\n",
       "      box-shadow: 0px 1px 2px rgba(60, 64, 67, 0.3), 0px 1px 3px 1px rgba(60, 64, 67, 0.15);\n",
       "      fill: #174EA6;\n",
       "    }\n",
       "\n",
       "    [theme=dark] .colab-df-convert {\n",
       "      background-color: #3B4455;\n",
       "      fill: #D2E3FC;\n",
       "    }\n",
       "\n",
       "    [theme=dark] .colab-df-convert:hover {\n",
       "      background-color: #434B5C;\n",
       "      box-shadow: 0px 1px 3px 1px rgba(0, 0, 0, 0.15);\n",
       "      filter: drop-shadow(0px 1px 2px rgba(0, 0, 0, 0.3));\n",
       "      fill: #FFFFFF;\n",
       "    }\n",
       "  </style>\n",
       "\n",
       "      <script>\n",
       "        const buttonEl =\n",
       "          document.querySelector('#df-e2b3f3ce-2db2-419d-8e60-691b3c42aea1 button.colab-df-convert');\n",
       "        buttonEl.style.display =\n",
       "          google.colab.kernel.accessAllowed ? 'block' : 'none';\n",
       "\n",
       "        async function convertToInteractive(key) {\n",
       "          const element = document.querySelector('#df-e2b3f3ce-2db2-419d-8e60-691b3c42aea1');\n",
       "          const dataTable =\n",
       "            await google.colab.kernel.invokeFunction('convertToInteractive',\n",
       "                                                     [key], {});\n",
       "          if (!dataTable) return;\n",
       "\n",
       "          const docLinkHtml = 'Like what you see? Visit the ' +\n",
       "            '<a target=\"_blank\" href=https://colab.research.google.com/notebooks/data_table.ipynb>data table notebook</a>'\n",
       "            + ' to learn more about interactive tables.';\n",
       "          element.innerHTML = '';\n",
       "          dataTable['output_type'] = 'display_data';\n",
       "          await google.colab.output.renderOutput(dataTable, element);\n",
       "          const docLink = document.createElement('div');\n",
       "          docLink.innerHTML = docLinkHtml;\n",
       "          element.appendChild(docLink);\n",
       "        }\n",
       "      </script>\n",
       "    </div>\n",
       "  </div>\n"
      ]
     },
     "metadata": {},
     "execution_count": 7
    }
   ],
   "source": [
    "data.describe()"
   ]
  },
  {
   "cell_type": "markdown",
   "metadata": {
    "id": "k2Ph_lKj8W9Y"
   },
   "source": [
    "create four new columns ('year', 'month', 'day_of_week', 'hour') that represent different time components of the 'time' attribute."
   ]
  },
  {
   "cell_type": "code",
   "execution_count": 8,
   "metadata": {
    "colab": {
     "base_uri": "https://localhost:8080/"
    },
    "id": "_Sl1q62_7w1H",
    "outputId": "dc359729-ace3-4a11-b70d-7e39b3497e58"
   },
   "outputs": [
    {
     "output_type": "stream",
     "name": "stdout",
     "text": [
      "              id                category  \\\n",
      "6252  5509158654  housing/rent/apartment   \n",
      "4684  5668638788  housing/rent/apartment   \n",
      "1731  5668622404  housing/rent/apartment   \n",
      "4742  5509154930  housing/rent/apartment   \n",
      "4521  5668635773  housing/rent/apartment   \n",
      "\n",
      "                                                  title  \\\n",
      "6252  Lease Spacious 2+2. Approx 930 sf of Living Sp...   \n",
      "4684                             Two BR 15 Union Street   \n",
      "1731                   Studio apartment 20-28 E Daniels   \n",
      "4742  One BR - Welcome to Spring Creek of Edmond Apa...   \n",
      "4521                       One BR 691 BLOOMFIELD AVENUE   \n",
      "\n",
      "                                                   body  \\\n",
      "6252  Come see all of the new and exciting improveme...   \n",
      "4684  This unit is located at fifteen Union Street, ...   \n",
      "1731  This unit is located at 20-28 E Daniels, Cinci...   \n",
      "4742  Square footage: 790 sq-ft, unit number: 320. W...   \n",
      "4521  This unit is located at 691 BLOOMFIELD AVENUE,...   \n",
      "\n",
      "                                              amenities  bathrooms  bedrooms  \\\n",
      "6252    Clubhouse,Gym,Parking,Patio/Deck,Storage,Tennis        2.0       2.0   \n",
      "4684                                                NaN        1.0       2.0   \n",
      "1731  Cable or Satellite,Dishwasher,Garbage Disposal...        1.0       2.0   \n",
      "4742  Fireplace,Garbage Disposal,Gym,Patio/Deck,Pool...        1.0       1.0   \n",
      "4521                                                NaN        1.0       1.0   \n",
      "\n",
      "     currency fee  has_photo pets_allowed  price price_display price_type  \\\n",
      "6252      USD  No        Yes          NaN    965          $965    Monthly   \n",
      "4684      USD  No  Thumbnail         None   1875        $1,875    Monthly   \n",
      "1731      USD  No  Thumbnail    Cats,Dogs    985          $985    Monthly   \n",
      "4742      USD  No  Thumbnail    Cats,Dogs    719          $719    Monthly   \n",
      "4521      USD  No  Thumbnail         Cats   2250        $2,250    Monthly   \n",
      "\n",
      "      square_feet             address       cityname state  latitude  \\\n",
      "6252          930                 NaN         Durham    NC   36.0514   \n",
      "4684          786         15 Union St  New Brunswick    NJ   40.4841   \n",
      "1731          585     20-28 E Daniels     Cincinnati    OH   39.1679   \n",
      "4742          790                 NaN         Edmond    OK   35.6217   \n",
      "4521          775  691 Bloomfield Ave      Montclair    NJ   40.8206   \n",
      "\n",
      "      longitude        source                          time  year  month  \\\n",
      "6252   -78.8807  RentDigs.com 1970-01-01 00:00:01.568777002  1970      1   \n",
      "4684   -74.4526     RentLingo 1970-01-01 00:00:01.577360262  1970      1   \n",
      "1731   -84.4933     RentLingo 1970-01-01 00:00:01.577359119  1970      1   \n",
      "4742   -97.4702  RentDigs.com 1970-01-01 00:00:01.568776675  1970      1   \n",
      "4521   -74.2133     RentLingo 1970-01-01 00:00:01.577360064  1970      1   \n",
      "\n",
      "      day_of_week  hour  is_weekend  \n",
      "6252            3     0           0  \n",
      "4684            3     0           0  \n",
      "1731            3     0           0  \n",
      "4742            3     0           0  \n",
      "4521            3     0           0  \n"
     ]
    }
   ],
   "source": [
    "data['time'] = pd.to_datetime(data['time'])\n",
    "\n",
    "# Extract different time-related features\n",
    "data['year'] = data['time'].dt.year\n",
    "data['month'] = data['time'].dt.month\n",
    "data['day_of_week'] = data['time'].dt.dayofweek\n",
    "data['hour'] = data['time'].dt.hour\n",
    "\n",
    "# Create 'is_weekend' feature\n",
    "data['is_weekend'] = data['day_of_week'].isin([5, 6]).astype(int)\n",
    "\n",
    "# Display the updated DataFrame with the new features\n",
    "print(data.head())\n",
    "\n",
    "\n"
   ]
  },
  {
   "cell_type": "markdown",
   "source": [
    "Binarization of categorical variables"
   ],
   "metadata": {
    "id": "KcWLJfRXDcd1"
   }
  },
  {
   "cell_type": "markdown",
   "source": [
    "has_photo"
   ],
   "metadata": {
    "id": "2vnICfwSD4ji"
   }
  },
  {
   "cell_type": "code",
   "source": [
    "\n",
    "print(data['has_photo'].unique())\n",
    "\n",
    "\n",
    "data['has_photo'] = data['has_photo'].map({'Thumbnail': 1, 'No': 0, 'Yes':1 })\n",
    "\n"
   ],
   "metadata": {
    "colab": {
     "base_uri": "https://localhost:8080/"
    },
    "id": "UG71gNrhC2dc",
    "outputId": "69936411-2833-4766-e583-8125a6b2eb0a"
   },
   "execution_count": 9,
   "outputs": [
    {
     "output_type": "stream",
     "name": "stdout",
     "text": [
      "['Yes' 'Thumbnail' 'No']\n"
     ]
    }
   ]
  },
  {
   "cell_type": "markdown",
   "source": [],
   "metadata": {
    "id": "c_W3CRbND8LX"
   }
  },
  {
   "cell_type": "code",
   "source": [
    "print(data['pets_allowed'].unique())\n",
    "\n",
    "\n",
    "data['pets_allowed'] = data['pets_allowed'].map(lambda x: 0 if x == 'None' else 1)\n",
    "\n"
   ],
   "metadata": {
    "colab": {
     "base_uri": "https://localhost:8080/"
    },
    "id": "CoaodNZ7D9BQ",
    "outputId": "cfb94fad-b559-4192-d23b-857c9ec8ba6c"
   },
   "execution_count": 10,
   "outputs": [
    {
     "output_type": "stream",
     "name": "stdout",
     "text": [
      "[nan 'None' 'Cats,Dogs' 'Cats' 'Dogs']\n"
     ]
    }
   ]
  },
  {
   "cell_type": "code",
   "source": [
    "print(data['fee'].unique())\n",
    "\n",
    "\n",
    "data['fee'] = data['fee'].map(lambda x: 0 if x == 'No' else 1)\n",
    "\n"
   ],
   "metadata": {
    "colab": {
     "base_uri": "https://localhost:8080/"
    },
    "id": "FcpEAX3FFWmm",
    "outputId": "c99ac5ec-5906-4d66-a4ce-6baab48312a3"
   },
   "execution_count": 11,
   "outputs": [
    {
     "output_type": "stream",
     "name": "stdout",
     "text": [
      "['No']\n"
     ]
    }
   ]
  },
  {
   "cell_type": "markdown",
   "metadata": {
    "id": "VQnhOlK99am3"
   },
   "source": [
    "One-hot encoding"
   ]
  },
  {
   "cell_type": "code",
   "execution_count": 12,
   "metadata": {
    "colab": {
     "base_uri": "https://localhost:8080/"
    },
    "id": "TZwKEcLH82Ao",
    "outputId": "77c9673a-cb5e-4f09-daf3-123b26ff7f41"
   },
   "outputs": [
    {
     "output_type": "stream",
     "name": "stdout",
     "text": [
      "              id                                              title  \\\n",
      "6252  5509158654  Lease Spacious 2+2. Approx 930 sf of Living Sp...   \n",
      "4684  5668638788                             Two BR 15 Union Street   \n",
      "1731  5668622404                   Studio apartment 20-28 E Daniels   \n",
      "4742  5509154930  One BR - Welcome to Spring Creek of Edmond Apa...   \n",
      "4521  5668635773                       One BR 691 BLOOMFIELD AVENUE   \n",
      "\n",
      "                                                   body  \\\n",
      "6252  Come see all of the new and exciting improveme...   \n",
      "4684  This unit is located at fifteen Union Street, ...   \n",
      "1731  This unit is located at 20-28 E Daniels, Cinci...   \n",
      "4742  Square footage: 790 sq-ft, unit number: 320. W...   \n",
      "4521  This unit is located at 691 BLOOMFIELD AVENUE,...   \n",
      "\n",
      "                                              amenities  bathrooms  bedrooms  \\\n",
      "6252    Clubhouse,Gym,Parking,Patio/Deck,Storage,Tennis        2.0       2.0   \n",
      "4684                                                NaN        1.0       2.0   \n",
      "1731  Cable or Satellite,Dishwasher,Garbage Disposal...        1.0       2.0   \n",
      "4742  Fireplace,Garbage Disposal,Gym,Patio/Deck,Pool...        1.0       1.0   \n",
      "4521                                                NaN        1.0       1.0   \n",
      "\n",
      "     currency  fee  has_photo  pets_allowed  price price_display price_type  \\\n",
      "6252      USD    0          1             1    965          $965    Monthly   \n",
      "4684      USD    0          1             0   1875        $1,875    Monthly   \n",
      "1731      USD    0          1             1    985          $985    Monthly   \n",
      "4742      USD    0          1             1    719          $719    Monthly   \n",
      "4521      USD    0          1             1   2250        $2,250    Monthly   \n",
      "\n",
      "      square_feet             address       cityname state  latitude  \\\n",
      "6252          930                 NaN         Durham    NC   36.0514   \n",
      "4684          786         15 Union St  New Brunswick    NJ   40.4841   \n",
      "1731          585     20-28 E Daniels     Cincinnati    OH   39.1679   \n",
      "4742          790                 NaN         Edmond    OK   35.6217   \n",
      "4521          775  691 Bloomfield Ave      Montclair    NJ   40.8206   \n",
      "\n",
      "      longitude                          time  year  month  day_of_week  hour  \\\n",
      "6252   -78.8807 1970-01-01 00:00:01.568777002  1970      1            3     0   \n",
      "4684   -74.4526 1970-01-01 00:00:01.577360262  1970      1            3     0   \n",
      "1731   -84.4933 1970-01-01 00:00:01.577359119  1970      1            3     0   \n",
      "4742   -97.4702 1970-01-01 00:00:01.568776675  1970      1            3     0   \n",
      "4521   -74.2133 1970-01-01 00:00:01.577360064  1970      1            3     0   \n",
      "\n",
      "      is_weekend  category_housing/rent/home  source_Home Rentals  \\\n",
      "6252           0                           0                    0   \n",
      "4684           0                           0                    0   \n",
      "1731           0                           0                    0   \n",
      "4742           0                           0                    0   \n",
      "4521           0                           0                    0   \n",
      "\n",
      "      source_Listanza  source_ListedBuy  source_RENTCafé  source_RENTOCULAR  \\\n",
      "6252                0                 0                0                  0   \n",
      "4684                0                 0                0                  0   \n",
      "1731                0                 0                0                  0   \n",
      "4742                0                 0                0                  0   \n",
      "4521                0                 0                0                  0   \n",
      "\n",
      "      source_RealRentals  source_RentDigs.com  source_RentLingo  \\\n",
      "6252                   0                    1                 0   \n",
      "4684                   0                    0                 1   \n",
      "1731                   0                    0                 1   \n",
      "4742                   0                    1                 0   \n",
      "4521                   0                    0                 1   \n",
      "\n",
      "      source_rentbits  \n",
      "6252                0  \n",
      "4684                0  \n",
      "1731                0  \n",
      "4742                0  \n",
      "4521                0  \n"
     ]
    }
   ],
   "source": [
    "#  apply one-hot encoding\n",
    "data = pd.get_dummies(data, columns=['category', 'source'], drop_first=True)\n",
    "\n",
    "# Display the updated DataFrame with one-hot encoded columns\n",
    "print(data.head())"
   ]
  },
  {
   "cell_type": "markdown",
   "metadata": {
    "id": "6DIbj6dk9u3c"
   },
   "source": [
    "Check missing values\n"
   ]
  },
  {
   "cell_type": "code",
   "execution_count": 13,
   "metadata": {
    "colab": {
     "base_uri": "https://localhost:8080/"
    },
    "id": "ONBV-7in9sXO",
    "outputId": "722d5097-c386-42b1-c069-b4fb2adfa705"
   },
   "outputs": [
    {
     "output_type": "execute_result",
     "data": {
      "text/plain": [
       "id                              0\n",
       "title                           0\n",
       "body                            0\n",
       "amenities                     699\n",
       "bathrooms                       8\n",
       "bedrooms                        0\n",
       "currency                        0\n",
       "fee                             0\n",
       "has_photo                       0\n",
       "pets_allowed                    0\n",
       "price                           0\n",
       "price_display                   0\n",
       "price_type                      0\n",
       "square_feet                     0\n",
       "address                       663\n",
       "cityname                       21\n",
       "state                          21\n",
       "latitude                        5\n",
       "longitude                       5\n",
       "time                            0\n",
       "year                            0\n",
       "month                           0\n",
       "day_of_week                     0\n",
       "hour                            0\n",
       "is_weekend                      0\n",
       "category_housing/rent/home      0\n",
       "source_Home Rentals             0\n",
       "source_Listanza                 0\n",
       "source_ListedBuy                0\n",
       "source_RENTCafé                 0\n",
       "source_RENTOCULAR               0\n",
       "source_RealRentals              0\n",
       "source_RentDigs.com             0\n",
       "source_RentLingo                0\n",
       "source_rentbits                 0\n",
       "dtype: int64"
      ]
     },
     "metadata": {},
     "execution_count": 13
    }
   ],
   "source": [
    "data.isna().sum()"
   ]
  },
  {
   "cell_type": "markdown",
   "metadata": {
    "id": "eWSGiyPb-Tnx"
   },
   "source": [
    "Distribution of rent prices"
   ]
  },
  {
   "cell_type": "code",
   "execution_count": 14,
   "metadata": {
    "colab": {
     "base_uri": "https://localhost:8080/",
     "height": 1000
    },
    "id": "-_Aod5zw92uH",
    "outputId": "6df05d82-a6a3-4271-81e9-615524277286"
   },
   "outputs": [
    {
     "output_type": "display_data",
     "data": {
      "text/plain": [
       "<Figure size 1500x1200 with 4 Axes>"
      ],
      "image/png": "[encoded data removed]"
     },
     "metadata": {}
    }
   ],
   "source": [
    "fig, ax = plt.subplots(2, 2, figsize=(15, 12))\n",
    "ax1 = sns.histplot(x = data['price'], color='teal', ax= ax[0, 0])\n",
    "ax2 = sns.boxplot(x = data['price'], ax= ax[0, 1], color= 'teal')\n",
    "ax3 = sns.violinplot(x = data['price'], ax= ax[1, 0], color= 'teal')\n",
    "ax4 = probplot(data['price'], plot=pylab)\n",
    "pylab.show()"
   ]
  },
  {
   "cell_type": "markdown",
   "source": [
    "Drop columns that have missing values\n",
    "\n"
   ],
   "metadata": {
    "id": "VzvmpEa3_Udc"
   }
  },
  {
   "cell_type": "code",
   "source": [
    "# Define the list of columns to drop\n",
    "columns_to_drop = ['amenities', 'pets_allowed', 'address',\"time\",\"price_display\",\"title\",\"body\",\"currency\",\"id\",\"state\",\"cityname\",\"price_type\"]\n",
    "\n",
    "# Drop the columns with a high number of missing values\n",
    "data = data.drop(columns=columns_to_drop)\n",
    "\n",
    "# Display the updated DataFrame\n",
    "print(data.head())"
   ],
   "metadata": {
    "colab": {
     "base_uri": "https://localhost:8080/"
    },
    "id": "rqvMWQLc_oq3",
    "outputId": "509b01f8-cf46-47ad-e682-8f6fa60bc00f"
   },
   "execution_count": 15,
   "outputs": [
    {
     "output_type": "stream",
     "name": "stdout",
     "text": [
      "      bathrooms  bedrooms  fee  has_photo  price  square_feet  latitude  \\\n",
      "6252        2.0       2.0    0          1    965          930   36.0514   \n",
      "4684        1.0       2.0    0          1   1875          786   40.4841   \n",
      "1731        1.0       2.0    0          1    985          585   39.1679   \n",
      "4742        1.0       1.0    0          1    719          790   35.6217   \n",
      "4521        1.0       1.0    0          1   2250          775   40.8206   \n",
      "\n",
      "      longitude  year  month  day_of_week  hour  is_weekend  \\\n",
      "6252   -78.8807  1970      1            3     0           0   \n",
      "4684   -74.4526  1970      1            3     0           0   \n",
      "1731   -84.4933  1970      1            3     0           0   \n",
      "4742   -97.4702  1970      1            3     0           0   \n",
      "4521   -74.2133  1970      1            3     0           0   \n",
      "\n",
      "      category_housing/rent/home  source_Home Rentals  source_Listanza  \\\n",
      "6252                           0                    0                0   \n",
      "4684                           0                    0                0   \n",
      "1731                           0                    0                0   \n",
      "4742                           0                    0                0   \n",
      "4521                           0                    0                0   \n",
      "\n",
      "      source_ListedBuy  source_RENTCafé  source_RENTOCULAR  \\\n",
      "6252                 0                0                  0   \n",
      "4684                 0                0                  0   \n",
      "1731                 0                0                  0   \n",
      "4742                 0                0                  0   \n",
      "4521                 0                0                  0   \n",
      "\n",
      "      source_RealRentals  source_RentDigs.com  source_RentLingo  \\\n",
      "6252                   0                    1                 0   \n",
      "4684                   0                    0                 1   \n",
      "1731                   0                    0                 1   \n",
      "4742                   0                    1                 0   \n",
      "4521                   0                    0                 1   \n",
      "\n",
      "      source_rentbits  \n",
      "6252                0  \n",
      "4684                0  \n",
      "1731                0  \n",
      "4742                0  \n",
      "4521                0  \n"
     ]
    }
   ]
  },
  {
   "cell_type": "markdown",
   "source": [
    "Split data into test and training"
   ],
   "metadata": {
    "id": "UAUW6QJ6AztE"
   }
  },
  {
   "cell_type": "code",
   "source": [
    "data = data.dropna()\n",
    "\n",
    "X = data.drop('square_feet', axis= 1)\n",
    "y = data['square_feet']\n",
    "\n",
    "bc_result = boxcox(y)\n",
    "y_boxcox = bc_result[0]\n",
    "lambda_ = bc_result[1]\n",
    "\n",
    "X_train, X_test, y_train, y_test = train_test_split(X, y_boxcox, test_size= 0.2, random_state = 42)\n",
    "\n",
    "\n",
    "data.info()"
   ],
   "metadata": {
    "colab": {
     "base_uri": "https://localhost:8080/"
    },
    "id": "AGOwHlzj_Fo7",
    "outputId": "76648790-c00d-4e5a-d8a7-977eea27bd16"
   },
   "execution_count": 16,
   "outputs": [
    {
     "output_type": "stream",
     "name": "stdout",
     "text": [
      "<class 'pandas.core.frame.DataFrame'>\n",
      "Int64Index: 1987 entries, 6252 to 6929\n",
      "Data columns (total 23 columns):\n",
      " #   Column                      Non-Null Count  Dtype  \n",
      "---  ------                      --------------  -----  \n",
      " 0   bathrooms                   1987 non-null   float64\n",
      " 1   bedrooms                    1987 non-null   float64\n",
      " 2   fee                         1987 non-null   int64  \n",
      " 3   has_photo                   1987 non-null   int64  \n",
      " 4   price                       1987 non-null   int64  \n",
      " 5   square_feet                 1987 non-null   int64  \n",
      " 6   latitude                    1987 non-null   float64\n",
      " 7   longitude                   1987 non-null   float64\n",
      " 8   year                        1987 non-null   int64  \n",
      " 9   month                       1987 non-null   int64  \n",
      " 10  day_of_week                 1987 non-null   int64  \n",
      " 11  hour                        1987 non-null   int64  \n",
      " 12  is_weekend                  1987 non-null   int64  \n",
      " 13  category_housing/rent/home  1987 non-null   uint8  \n",
      " 14  source_Home Rentals         1987 non-null   uint8  \n",
      " 15  source_Listanza             1987 non-null   uint8  \n",
      " 16  source_ListedBuy            1987 non-null   uint8  \n",
      " 17  source_RENTCafé             1987 non-null   uint8  \n",
      " 18  source_RENTOCULAR           1987 non-null   uint8  \n",
      " 19  source_RealRentals          1987 non-null   uint8  \n",
      " 20  source_RentDigs.com         1987 non-null   uint8  \n",
      " 21  source_RentLingo            1987 non-null   uint8  \n",
      " 22  source_rentbits             1987 non-null   uint8  \n",
      "dtypes: float64(4), int64(9), uint8(10)\n",
      "memory usage: 236.7 KB\n"
     ]
    }
   ]
  },
  {
   "cell_type": "markdown",
   "source": [
    "Predictions"
   ],
   "metadata": {
    "id": "4juKCAiBBZ_Z"
   }
  },
  {
   "cell_type": "markdown",
   "source": [
    "Method 1: Random Forest Regressor"
   ],
   "metadata": {
    "id": "G2Fcr1DuCWvd"
   }
  },
  {
   "cell_type": "code",
   "source": [
    "from sklearn.ensemble import RandomForestClassifier\n",
    "from sklearn.model_selection import GridSearchCV\n",
    "from sklearn.metrics import accuracy_score"
   ],
   "metadata": {
    "id": "Mlkr8f-hBfGa"
   },
   "execution_count": 17,
   "outputs": []
  },
  {
   "cell_type": "code",
   "source": [
    "X_train\n"
   ],
   "metadata": {
    "colab": {
     "base_uri": "https://localhost:8080/",
     "height": 505
    },
    "id": "gAmkFXnyF0Uj",
    "outputId": "b8b4d717-af38-4b07-f0ef-b13cef221595"
   },
   "execution_count": 18,
   "outputs": [
    {
     "output_type": "execute_result",
     "data": {
      "text/plain": [
       "      bathrooms  bedrooms  fee  has_photo  price  latitude  longitude  year  \\\n",
       "6492        1.0       1.0    0          0    953   33.6795   -84.1596  1970   \n",
       "9053        2.0       2.0    0          1   2150   29.4624   -98.5253  1970   \n",
       "9100        2.0       3.0    0          1   1570   40.4678   -79.9134  1970   \n",
       "5028        1.5       2.0    0          1    563   33.4632   -94.0736  1970   \n",
       "239         1.0       0.0    0          1   1099   45.5091  -122.6449  1970   \n",
       "...         ...       ...  ...        ...    ...       ...        ...   ...   \n",
       "7962        1.0       2.0    0          1   1220   39.0744   -94.5521  1970   \n",
       "3846        1.0       1.0    0          0   2235   34.1428  -117.9996  1970   \n",
       "8961        2.0       3.0    0          1   1300   33.9217   -84.8634  1970   \n",
       "2611        1.0       1.0    0          1    820   35.7863   -78.4845  1970   \n",
       "3684        1.0       1.0    0          1   1693   47.5481  -122.0471  1970   \n",
       "\n",
       "      month  day_of_week  hour  is_weekend  category_housing/rent/home  \\\n",
       "6492      1            3     0           0                           0   \n",
       "9053      1            3     0           0                           0   \n",
       "9100      1            3     0           0                           0   \n",
       "5028      1            3     0           0                           0   \n",
       "239       1            3     0           0                           0   \n",
       "...     ...          ...   ...         ...                         ...   \n",
       "7962      1            3     0           0                           0   \n",
       "3846      1            3     0           0                           0   \n",
       "8961      1            3     0           0                           0   \n",
       "2611      1            3     0           0                           0   \n",
       "3684      1            3     0           0                           0   \n",
       "\n",
       "      source_Home Rentals  source_Listanza  source_ListedBuy  source_RENTCafé  \\\n",
       "6492                    0                0                 0                0   \n",
       "9053                    0                0                 0                0   \n",
       "9100                    0                0                 0                0   \n",
       "5028                    0                0                 0                0   \n",
       "239                     0                0                 0                0   \n",
       "...                   ...              ...               ...              ...   \n",
       "7962                    0                0                 0                0   \n",
       "3846                    0                0                 0                0   \n",
       "8961                    0                0                 0                0   \n",
       "2611                    0                0                 0                0   \n",
       "3684                    0                0                 0                0   \n",
       "\n",
       "      source_RENTOCULAR  source_RealRentals  source_RentDigs.com  \\\n",
       "6492                  0                   0                    1   \n",
       "9053                  0                   0                    0   \n",
       "9100                  0                   0                    1   \n",
       "5028                  0                   0                    1   \n",
       "239                   0                   0                    0   \n",
       "...                 ...                 ...                  ...   \n",
       "7962                  0                   0                    0   \n",
       "3846                  0                   0                    1   \n",
       "8961                  0                   0                    0   \n",
       "2611                  0                   0                    1   \n",
       "3684                  0                   0                    0   \n",
       "\n",
       "      source_RentLingo  source_rentbits  \n",
       "6492                 0                0  \n",
       "9053                 1                0  \n",
       "9100                 0                0  \n",
       "5028                 0                0  \n",
       "239                  1                0  \n",
       "...                ...              ...  \n",
       "7962                 1                0  \n",
       "3846                 0                0  \n",
       "8961                 1                0  \n",
       "2611                 0                0  \n",
       "3684                 1                0  \n",
       "\n",
       "[1589 rows x 22 columns]"
      ],
      "text/html": [
       "\n",
       "\n",
       "  <div id=\"df-8b789705-3ade-4aac-b6b5-dc1b510ce869\">\n",
       "    <div class=\"colab-df-container\">\n",
       "      <div>\n",
       "<style scoped>\n",
       "    .dataframe tbody tr th:only-of-type {\n",
       "        vertical-align: middle;\n",
       "    }\n",
       "\n",
       "    .dataframe tbody tr th {\n",
       "        vertical-align: top;\n",
       "    }\n",
       "\n",
       "    .dataframe thead th {\n",
       "        text-align: right;\n",
       "    }\n",
       "</style>\n",
       "<table border=\"1\" class=\"dataframe\">\n",
       "  <thead>\n",
       "    <tr style=\"text-align: right;\">\n",
       "      <th></th>\n",
       "      <th>bathrooms</th>\n",
       "      <th>bedrooms</th>\n",
       "      <th>fee</th>\n",
       "      <th>has_photo</th>\n",
       "      <th>price</th>\n",
       "      <th>latitude</th>\n",
       "      <th>longitude</th>\n",
       "      <th>year</th>\n",
       "      <th>month</th>\n",
       "      <th>day_of_week</th>\n",
       "      <th>hour</th>\n",
       "      <th>is_weekend</th>\n",
       "      <th>category_housing/rent/home</th>\n",
       "      <th>source_Home Rentals</th>\n",
       "      <th>source_Listanza</th>\n",
       "      <th>source_ListedBuy</th>\n",
       "      <th>source_RENTCafé</th>\n",
       "      <th>source_RENTOCULAR</th>\n",
       "      <th>source_RealRentals</th>\n",
       "      <th>source_RentDigs.com</th>\n",
       "      <th>source_RentLingo</th>\n",
       "      <th>source_rentbits</th>\n",
       "    </tr>\n",
       "  </thead>\n",
       "  <tbody>\n",
       "    <tr>\n",
       "      <th>6492</th>\n",
       "      <td>1.0</td>\n",
       "      <td>1.0</td>\n",
       "      <td>0</td>\n",
       "      <td>0</td>\n",
       "      <td>953</td>\n",
       "      <td>33.6795</td>\n",
       "      <td>-84.1596</td>\n",
       "      <td>1970</td>\n",
       "      <td>1</td>\n",
       "      <td>3</td>\n",
       "      <td>0</td>\n",
       "      <td>0</td>\n",
       "      <td>0</td>\n",
       "      <td>0</td>\n",
       "      <td>0</td>\n",
       "      <td>0</td>\n",
       "      <td>0</td>\n",
       "      <td>0</td>\n",
       "      <td>0</td>\n",
       "      <td>1</td>\n",
       "      <td>0</td>\n",
       "      <td>0</td>\n",
       "    </tr>\n",
       "    <tr>\n",
       "      <th>9053</th>\n",
       "      <td>2.0</td>\n",
       "      <td>2.0</td>\n",
       "      <td>0</td>\n",
       "      <td>1</td>\n",
       "      <td>2150</td>\n",
       "      <td>29.4624</td>\n",
       "      <td>-98.5253</td>\n",
       "      <td>1970</td>\n",
       "      <td>1</td>\n",
       "      <td>3</td>\n",
       "      <td>0</td>\n",
       "      <td>0</td>\n",
       "      <td>0</td>\n",
       "      <td>0</td>\n",
       "      <td>0</td>\n",
       "      <td>0</td>\n",
       "      <td>0</td>\n",
       "      <td>0</td>\n",
       "      <td>0</td>\n",
       "      <td>0</td>\n",
       "      <td>1</td>\n",
       "      <td>0</td>\n",
       "    </tr>\n",
       "    <tr>\n",
       "      <th>9100</th>\n",
       "      <td>2.0</td>\n",
       "      <td>3.0</td>\n",
       "      <td>0</td>\n",
       "      <td>1</td>\n",
       "      <td>1570</td>\n",
       "      <td>40.4678</td>\n",
       "      <td>-79.9134</td>\n",
       "      <td>1970</td>\n",
       "      <td>1</td>\n",
       "      <td>3</td>\n",
       "      <td>0</td>\n",
       "      <td>0</td>\n",
       "      <td>0</td>\n",
       "      <td>0</td>\n",
       "      <td>0</td>\n",
       "      <td>0</td>\n",
       "      <td>0</td>\n",
       "      <td>0</td>\n",
       "      <td>0</td>\n",
       "      <td>1</td>\n",
       "      <td>0</td>\n",
       "      <td>0</td>\n",
       "    </tr>\n",
       "    <tr>\n",
       "      <th>5028</th>\n",
       "      <td>1.5</td>\n",
       "      <td>2.0</td>\n",
       "      <td>0</td>\n",
       "      <td>1</td>\n",
       "      <td>563</td>\n",
       "      <td>33.4632</td>\n",
       "      <td>-94.0736</td>\n",
       "      <td>1970</td>\n",
       "      <td>1</td>\n",
       "      <td>3</td>\n",
       "      <td>0</td>\n",
       "      <td>0</td>\n",
       "      <td>0</td>\n",
       "      <td>0</td>\n",
       "      <td>0</td>\n",
       "      <td>0</td>\n",
       "      <td>0</td>\n",
       "      <td>0</td>\n",
       "      <td>0</td>\n",
       "      <td>1</td>\n",
       "      <td>0</td>\n",
       "      <td>0</td>\n",
       "    </tr>\n",
       "    <tr>\n",
       "      <th>239</th>\n",
       "      <td>1.0</td>\n",
       "      <td>0.0</td>\n",
       "      <td>0</td>\n",
       "      <td>1</td>\n",
       "      <td>1099</td>\n",
       "      <td>45.5091</td>\n",
       "      <td>-122.6449</td>\n",
       "      <td>1970</td>\n",
       "      <td>1</td>\n",
       "      <td>3</td>\n",
       "      <td>0</td>\n",
       "      <td>0</td>\n",
       "      <td>0</td>\n",
       "      <td>0</td>\n",
       "      <td>0</td>\n",
       "      <td>0</td>\n",
       "      <td>0</td>\n",
       "      <td>0</td>\n",
       "      <td>0</td>\n",
       "      <td>0</td>\n",
       "      <td>1</td>\n",
       "      <td>0</td>\n",
       "    </tr>\n",
       "    <tr>\n",
       "      <th>...</th>\n",
       "      <td>...</td>\n",
       "      <td>...</td>\n",
       "      <td>...</td>\n",
       "      <td>...</td>\n",
       "      <td>...</td>\n",
       "      <td>...</td>\n",
       "      <td>...</td>\n",
       "      <td>...</td>\n",
       "      <td>...</td>\n",
       "      <td>...</td>\n",
       "      <td>...</td>\n",
       "      <td>...</td>\n",
       "      <td>...</td>\n",
       "      <td>...</td>\n",
       "      <td>...</td>\n",
       "      <td>...</td>\n",
       "      <td>...</td>\n",
       "      <td>...</td>\n",
       "      <td>...</td>\n",
       "      <td>...</td>\n",
       "      <td>...</td>\n",
       "      <td>...</td>\n",
       "    </tr>\n",
       "    <tr>\n",
       "      <th>7962</th>\n",
       "      <td>1.0</td>\n",
       "      <td>2.0</td>\n",
       "      <td>0</td>\n",
       "      <td>1</td>\n",
       "      <td>1220</td>\n",
       "      <td>39.0744</td>\n",
       "      <td>-94.5521</td>\n",
       "      <td>1970</td>\n",
       "      <td>1</td>\n",
       "      <td>3</td>\n",
       "      <td>0</td>\n",
       "      <td>0</td>\n",
       "      <td>0</td>\n",
       "      <td>0</td>\n",
       "      <td>0</td>\n",
       "      <td>0</td>\n",
       "      <td>0</td>\n",
       "      <td>0</td>\n",
       "      <td>0</td>\n",
       "      <td>0</td>\n",
       "      <td>1</td>\n",
       "      <td>0</td>\n",
       "    </tr>\n",
       "    <tr>\n",
       "      <th>3846</th>\n",
       "      <td>1.0</td>\n",
       "      <td>1.0</td>\n",
       "      <td>0</td>\n",
       "      <td>0</td>\n",
       "      <td>2235</td>\n",
       "      <td>34.1428</td>\n",
       "      <td>-117.9996</td>\n",
       "      <td>1970</td>\n",
       "      <td>1</td>\n",
       "      <td>3</td>\n",
       "      <td>0</td>\n",
       "      <td>0</td>\n",
       "      <td>0</td>\n",
       "      <td>0</td>\n",
       "      <td>0</td>\n",
       "      <td>0</td>\n",
       "      <td>0</td>\n",
       "      <td>0</td>\n",
       "      <td>0</td>\n",
       "      <td>1</td>\n",
       "      <td>0</td>\n",
       "      <td>0</td>\n",
       "    </tr>\n",
       "    <tr>\n",
       "      <th>8961</th>\n",
       "      <td>2.0</td>\n",
       "      <td>3.0</td>\n",
       "      <td>0</td>\n",
       "      <td>1</td>\n",
       "      <td>1300</td>\n",
       "      <td>33.9217</td>\n",
       "      <td>-84.8634</td>\n",
       "      <td>1970</td>\n",
       "      <td>1</td>\n",
       "      <td>3</td>\n",
       "      <td>0</td>\n",
       "      <td>0</td>\n",
       "      <td>0</td>\n",
       "      <td>0</td>\n",
       "      <td>0</td>\n",
       "      <td>0</td>\n",
       "      <td>0</td>\n",
       "      <td>0</td>\n",
       "      <td>0</td>\n",
       "      <td>0</td>\n",
       "      <td>1</td>\n",
       "      <td>0</td>\n",
       "    </tr>\n",
       "    <tr>\n",
       "      <th>2611</th>\n",
       "      <td>1.0</td>\n",
       "      <td>1.0</td>\n",
       "      <td>0</td>\n",
       "      <td>1</td>\n",
       "      <td>820</td>\n",
       "      <td>35.7863</td>\n",
       "      <td>-78.4845</td>\n",
       "      <td>1970</td>\n",
       "      <td>1</td>\n",
       "      <td>3</td>\n",
       "      <td>0</td>\n",
       "      <td>0</td>\n",
       "      <td>0</td>\n",
       "      <td>0</td>\n",
       "      <td>0</td>\n",
       "      <td>0</td>\n",
       "      <td>0</td>\n",
       "      <td>0</td>\n",
       "      <td>0</td>\n",
       "      <td>1</td>\n",
       "      <td>0</td>\n",
       "      <td>0</td>\n",
       "    </tr>\n",
       "    <tr>\n",
       "      <th>3684</th>\n",
       "      <td>1.0</td>\n",
       "      <td>1.0</td>\n",
       "      <td>0</td>\n",
       "      <td>1</td>\n",
       "      <td>1693</td>\n",
       "      <td>47.5481</td>\n",
       "      <td>-122.0471</td>\n",
       "      <td>1970</td>\n",
       "      <td>1</td>\n",
       "      <td>3</td>\n",
       "      <td>0</td>\n",
       "      <td>0</td>\n",
       "      <td>0</td>\n",
       "      <td>0</td>\n",
       "      <td>0</td>\n",
       "      <td>0</td>\n",
       "      <td>0</td>\n",
       "      <td>0</td>\n",
       "      <td>0</td>\n",
       "      <td>0</td>\n",
       "      <td>1</td>\n",
       "      <td>0</td>\n",
       "    </tr>\n",
       "  </tbody>\n",
       "</table>\n",
       "<p>1589 rows × 22 columns</p>\n",
       "</div>\n",
       "      <button class=\"colab-df-convert\" onclick=\"convertToInteractive('df-8b789705-3ade-4aac-b6b5-dc1b510ce869')\"\n",
       "              title=\"Convert this dataframe to an interactive table.\"\n",
       "              style=\"display:none;\">\n",
       "\n",
       "  <svg xmlns=\"http://www.w3.org/2000/svg\" height=\"24px\"viewBox=\"0 0 24 24\"\n",
       "       width=\"24px\">\n",
       "    <path d=\"M0 0h24v24H0V0z\" fill=\"none\"/>\n",
       "    <path d=\"M18.56 5.44l.94 2.06.94-2.06 2.06-.94-2.06-.94-.94-2.06-.94 2.06-2.06.94zm-11 1L8.5 8.5l.94-2.06 2.06-.94-2.06-.94L8.5 2.5l-.94 2.06-2.06.94zm10 10l.94 2.06.94-2.06 2.06-.94-2.06-.94-.94-2.06-.94 2.06-2.06.94z\"/><path d=\"M17.41 7.96l-1.37-1.37c-.4-.4-.92-.59-1.43-.59-.52 0-1.04.2-1.43.59L10.3 9.45l-7.72 7.72c-.78.78-.78 2.05 0 2.83L4 21.41c.39.39.9.59 1.41.59.51 0 1.02-.2 1.41-.59l7.78-7.78 2.81-2.81c.8-.78.8-2.07 0-2.86zM5.41 20L4 18.59l7.72-7.72 1.47 1.35L5.41 20z\"/>\n",
       "  </svg>\n",
       "      </button>\n",
       "\n",
       "\n",
       "\n",
       "    <div id=\"df-f6dd94f4-80c3-4d8d-9c62-bb07ae0b15a3\">\n",
       "      <button class=\"colab-df-quickchart\" onclick=\"quickchart('df-f6dd94f4-80c3-4d8d-9c62-bb07ae0b15a3')\"\n",
       "              title=\"Suggest charts.\"\n",
       "              style=\"display:none;\">\n",
       "\n",
       "<svg xmlns=\"http://www.w3.org/2000/svg\" height=\"24px\"viewBox=\"0 0 24 24\"\n",
       "     width=\"24px\">\n",
       "    <g>\n",
       "        <path d=\"M19 3H5c-1.1 0-2 .9-2 2v14c0 1.1.9 2 2 2h14c1.1 0 2-.9 2-2V5c0-1.1-.9-2-2-2zM9 17H7v-7h2v7zm4 0h-2V7h2v10zm4 0h-2v-4h2v4z\"/>\n",
       "    </g>\n",
       "</svg>\n",
       "      </button>\n",
       "    </div>\n",
       "\n",
       "<style>\n",
       "  .colab-df-quickchart {\n",
       "    background-color: #E8F0FE;\n",
       "    border: none;\n",
       "    border-radius: 50%;\n",
       "    cursor: pointer;\n",
       "    display: none;\n",
       "    fill: #1967D2;\n",
       "    height: 32px;\n",
       "    padding: 0 0 0 0;\n",
       "    width: 32px;\n",
       "  }\n",
       "\n",
       "  .colab-df-quickchart:hover {\n",
       "    background-color: #E2EBFA;\n",
       "    box-shadow: 0px 1px 2px rgba(60, 64, 67, 0.3), 0px 1px 3px 1px rgba(60, 64, 67, 0.15);\n",
       "    fill: #174EA6;\n",
       "  }\n",
       "\n",
       "  [theme=dark] .colab-df-quickchart {\n",
       "    background-color: #3B4455;\n",
       "    fill: #D2E3FC;\n",
       "  }\n",
       "\n",
       "  [theme=dark] .colab-df-quickchart:hover {\n",
       "    background-color: #434B5C;\n",
       "    box-shadow: 0px 1px 3px 1px rgba(0, 0, 0, 0.15);\n",
       "    filter: drop-shadow(0px 1px 2px rgba(0, 0, 0, 0.3));\n",
       "    fill: #FFFFFF;\n",
       "  }\n",
       "</style>\n",
       "\n",
       "    <script>\n",
       "      async function quickchart(key) {\n",
       "        const containerElement = document.querySelector('#' + key);\n",
       "        const charts = await google.colab.kernel.invokeFunction(\n",
       "            'suggestCharts', [key], {});\n",
       "      }\n",
       "    </script>\n",
       "\n",
       "      <script>\n",
       "\n",
       "function displayQuickchartButton(domScope) {\n",
       "  let quickchartButtonEl =\n",
       "    domScope.querySelector('#df-f6dd94f4-80c3-4d8d-9c62-bb07ae0b15a3 button.colab-df-quickchart');\n",
       "  quickchartButtonEl.style.display =\n",
       "    google.colab.kernel.accessAllowed ? 'block' : 'none';\n",
       "}\n",
       "\n",
       "        displayQuickchartButton(document);\n",
       "      </script>\n",
       "      <style>\n",
       "    .colab-df-container {\n",
       "      display:flex;\n",
       "      flex-wrap:wrap;\n",
       "      gap: 12px;\n",
       "    }\n",
       "\n",
       "    .colab-df-convert {\n",
       "      background-color: #E8F0FE;\n",
       "      border: none;\n",
       "      border-radius: 50%;\n",
       "      cursor: pointer;\n",
       "      display: none;\n",
       "      fill: #1967D2;\n",
       "      height: 32px;\n",
       "      padding: 0 0 0 0;\n",
       "      width: 32px;\n",
       "    }\n",
       "\n",
       "    .colab-df-convert:hover {\n",
       "      background-color: #E2EBFA;\n",
       "      box-shadow: 0px 1px 2px rgba(60, 64, 67, 0.3), 0px 1px 3px 1px rgba(60, 64, 67, 0.15);\n",
       "      fill: #174EA6;\n",
       "    }\n",
       "\n",
       "    [theme=dark] .colab-df-convert {\n",
       "      background-color: #3B4455;\n",
       "      fill: #D2E3FC;\n",
       "    }\n",
       "\n",
       "    [theme=dark] .colab-df-convert:hover {\n",
       "      background-color: #434B5C;\n",
       "      box-shadow: 0px 1px 3px 1px rgba(0, 0, 0, 0.15);\n",
       "      filter: drop-shadow(0px 1px 2px rgba(0, 0, 0, 0.3));\n",
       "      fill: #FFFFFF;\n",
       "    }\n",
       "  </style>\n",
       "\n",
       "      <script>\n",
       "        const buttonEl =\n",
       "          document.querySelector('#df-8b789705-3ade-4aac-b6b5-dc1b510ce869 button.colab-df-convert');\n",
       "        buttonEl.style.display =\n",
       "          google.colab.kernel.accessAllowed ? 'block' : 'none';\n",
       "\n",
       "        async function convertToInteractive(key) {\n",
       "          const element = document.querySelector('#df-8b789705-3ade-4aac-b6b5-dc1b510ce869');\n",
       "          const dataTable =\n",
       "            await google.colab.kernel.invokeFunction('convertToInteractive',\n",
       "                                                     [key], {});\n",
       "          if (!dataTable) return;\n",
       "\n",
       "          const docLinkHtml = 'Like what you see? Visit the ' +\n",
       "            '<a target=\"_blank\" href=https://colab.research.google.com/notebooks/data_table.ipynb>data table notebook</a>'\n",
       "            + ' to learn more about interactive tables.';\n",
       "          element.innerHTML = '';\n",
       "          dataTable['output_type'] = 'display_data';\n",
       "          await google.colab.output.renderOutput(dataTable, element);\n",
       "          const docLink = document.createElement('div');\n",
       "          docLink.innerHTML = docLinkHtml;\n",
       "          element.appendChild(docLink);\n",
       "        }\n",
       "      </script>\n",
       "    </div>\n",
       "  </div>\n"
      ]
     },
     "metadata": {},
     "execution_count": 18
    }
   ]
  },
  {
   "cell_type": "code",
   "source": [
    "from sklearn.ensemble import RandomForestRegressor\n",
    "from sklearn.model_selection import GridSearchCV\n",
    "from sklearn.metrics import mean_squared_error\n",
    "\n",
    "# Step 1: Create a RandomForestRegressor instance\n",
    "rf_regressor = RandomForestRegressor()\n",
    "\n",
    "# Step 2: Define the hyperparameter grid for Grid Search\n",
    "param_grid = {\n",
    "    'n_estimators': [50, 100, 200],\n",
    "    'max_depth': [None, 5, 10],\n",
    "\n",
    "}\n",
    "\n",
    "# Step 3: Perform Grid Search using cross-validation to find the best hyperparameters\n",
    "grid_search = GridSearchCV(estimator=rf_regressor, param_grid=param_grid, cv=3, n_jobs=-1)\n",
    "grid_search.fit(X_train, y_train)\n",
    "\n",
    "# Step 4: Train the Random Forest model with the best hyperparameters\n",
    "best_rf_model = grid_search.best_estimator_\n",
    "\n",
    "best_rf_model\n"
   ],
   "metadata": {
    "colab": {
     "base_uri": "https://localhost:8080/",
     "height": 75
    },
    "id": "ygQ4gRmiBba6",
    "outputId": "2810eb0f-d6ab-4a97-8673-381a49f5c400"
   },
   "execution_count": 19,
   "outputs": [
    {
     "output_type": "execute_result",
     "data": {
      "text/plain": [
       "RandomForestRegressor(max_depth=10, n_estimators=200)"
      ],
      "text/html": [
       "<style>#sk-container-id-1 {color: black;background-color: white;}#sk-container-id-1 pre{padding: 0;}#sk-container-id-1 div.sk-toggleable {background-color: white;}#sk-container-id-1 label.sk-toggleable__label {cursor: pointer;display: block;width: 100%;margin-bottom: 0;padding: 0.3em;box-sizing: border-box;text-align: center;}#sk-container-id-1 label.sk-toggleable__label-arrow:before {content: \"▸\";float: left;margin-right: 0.25em;color: #696969;}#sk-container-id-1 label.sk-toggleable__label-arrow:hover:before {color: black;}#sk-container-id-1 div.sk-estimator:hover label.sk-toggleable__label-arrow:before {color: black;}#sk-container-id-1 div.sk-toggleable__content {max-height: 0;max-width: 0;overflow: hidden;text-align: left;background-color: #f0f8ff;}#sk-container-id-1 div.sk-toggleable__content pre {margin: 0.2em;color: black;border-radius: 0.25em;background-color: #f0f8ff;}#sk-container-id-1 input.sk-toggleable__control:checked~div.sk-toggleable__content {max-height: 200px;max-width: 100%;overflow: auto;}#sk-container-id-1 input.sk-toggleable__control:checked~label.sk-toggleable__label-arrow:before {content: \"▾\";}#sk-container-id-1 div.sk-estimator input.sk-toggleable__control:checked~label.sk-toggleable__label {background-color: #d4ebff;}#sk-container-id-1 div.sk-label input.sk-toggleable__control:checked~label.sk-toggleable__label {background-color: #d4ebff;}#sk-container-id-1 input.sk-hidden--visually {border: 0;clip: rect(1px 1px 1px 1px);clip: rect(1px, 1px, 1px, 1px);height: 1px;margin: -1px;overflow: hidden;padding: 0;position: absolute;width: 1px;}#sk-container-id-1 div.sk-estimator {font-family: monospace;background-color: #f0f8ff;border: 1px dotted black;border-radius: 0.25em;box-sizing: border-box;margin-bottom: 0.5em;}#sk-container-id-1 div.sk-estimator:hover {background-color: #d4ebff;}#sk-container-id-1 div.sk-parallel-item::after {content: \"\";width: 100%;border-bottom: 1px solid gray;flex-grow: 1;}#sk-container-id-1 div.sk-label:hover label.sk-toggleable__label {background-color: #d4ebff;}#sk-container-id-1 div.sk-serial::before {content: \"\";position: absolute;border-left: 1px solid gray;box-sizing: border-box;top: 0;bottom: 0;left: 50%;z-index: 0;}#sk-container-id-1 div.sk-serial {display: flex;flex-direction: column;align-items: center;background-color: white;padding-right: 0.2em;padding-left: 0.2em;position: relative;}#sk-container-id-1 div.sk-item {position: relative;z-index: 1;}#sk-container-id-1 div.sk-parallel {display: flex;align-items: stretch;justify-content: center;background-color: white;position: relative;}#sk-container-id-1 div.sk-item::before, #sk-container-id-1 div.sk-parallel-item::before {content: \"\";position: absolute;border-left: 1px solid gray;box-sizing: border-box;top: 0;bottom: 0;left: 50%;z-index: -1;}#sk-container-id-1 div.sk-parallel-item {display: flex;flex-direction: column;z-index: 1;position: relative;background-color: white;}#sk-container-id-1 div.sk-parallel-item:first-child::after {align-self: flex-end;width: 50%;}#sk-container-id-1 div.sk-parallel-item:last-child::after {align-self: flex-start;width: 50%;}#sk-container-id-1 div.sk-parallel-item:only-child::after {width: 0;}#sk-container-id-1 div.sk-dashed-wrapped {border: 1px dashed gray;margin: 0 0.4em 0.5em 0.4em;box-sizing: border-box;padding-bottom: 0.4em;background-color: white;}#sk-container-id-1 div.sk-label label {font-family: monospace;font-weight: bold;display: inline-block;line-height: 1.2em;}#sk-container-id-1 div.sk-label-container {text-align: center;}#sk-container-id-1 div.sk-container {/* jupyter's `normalize.less` sets `[hidden] { display: none; }` but bootstrap.min.css set `[hidden] { display: none !important; }` so we also need the `!important` here to be able to override the default hidden behavior on the sphinx rendered scikit-learn.org. See: https://github.com/scikit-learn/scikit-learn/issues/21755 */display: inline-block !important;position: relative;}#sk-container-id-1 div.sk-text-repr-fallback {display: none;}</style><div id=\"sk-container-id-1\" class=\"sk-top-container\"><div class=\"sk-text-repr-fallback\"><pre>RandomForestRegressor(max_depth=10, n_estimators=200)</pre><b>In a Jupyter environment, please rerun this cell to show the HTML representation or trust the notebook. <br />On GitHub, the HTML representation is unable to render, please try loading this page with nbviewer.org.</b></div><div class=\"sk-container\" hidden><div class=\"sk-item\"><div class=\"sk-estimator sk-toggleable\"><input class=\"sk-toggleable__control sk-hidden--visually\" id=\"sk-estimator-id-1\" type=\"checkbox\" checked><label for=\"sk-estimator-id-1\" class=\"sk-toggleable__label sk-toggleable__label-arrow\">RandomForestRegressor</label><div class=\"sk-toggleable__content\"><pre>RandomForestRegressor(max_depth=10, n_estimators=200)</pre></div></div></div></div></div>"
      ]
     },
     "metadata": {},
     "execution_count": 19
    }
   ]
  },
  {
   "cell_type": "code",
   "source": [
    "# Step 1: Create a RandomForestRegressor instance\n",
    "rf_regressor = RandomForestRegressor()\n",
    "\n",
    "# Step 2: Define the hyperparameter grid for Grid Search\n",
    "param_grid = {\n",
    "    'n_estimators':  [200],\n",
    "    'max_depth': [10],\n",
    "   'min_samples_split': [2, 5, 10],\n",
    "    'min_samples_leaf': [1, 2, 4],\n",
    "\n",
    "}\n",
    "\n",
    "# Step 3: Perform Grid Search using cross-validation to find the best hyperparameters\n",
    "grid_search = GridSearchCV(estimator=rf_regressor, param_grid=param_grid, cv=3, n_jobs=-1)\n",
    "grid_search.fit(X_train, y_train)\n",
    "\n",
    "# Step 4: Train the Random Forest model with the best hyperparameters\n",
    "best_rf_model = grid_search.best_estimator_\n",
    "\n",
    "best_rf_model\n",
    "\n",
    "\n"
   ],
   "metadata": {
    "colab": {
     "base_uri": "https://localhost:8080/",
     "height": 75
    },
    "id": "ywWsntl_fm21",
    "outputId": "03e30ef0-41dc-4175-99cf-2399e9728961"
   },
   "execution_count": 20,
   "outputs": [
    {
     "output_type": "execute_result",
     "data": {
      "text/plain": [
       "RandomForestRegressor(max_depth=10, min_samples_leaf=2, n_estimators=200)"
      ],
      "text/html": [
       "<style>#sk-container-id-2 {color: black;background-color: white;}#sk-container-id-2 pre{padding: 0;}#sk-container-id-2 div.sk-toggleable {background-color: white;}#sk-container-id-2 label.sk-toggleable__label {cursor: pointer;display: block;width: 100%;margin-bottom: 0;padding: 0.3em;box-sizing: border-box;text-align: center;}#sk-container-id-2 label.sk-toggleable__label-arrow:before {content: \"▸\";float: left;margin-right: 0.25em;color: #696969;}#sk-container-id-2 label.sk-toggleable__label-arrow:hover:before {color: black;}#sk-container-id-2 div.sk-estimator:hover label.sk-toggleable__label-arrow:before {color: black;}#sk-container-id-2 div.sk-toggleable__content {max-height: 0;max-width: 0;overflow: hidden;text-align: left;background-color: #f0f8ff;}#sk-container-id-2 div.sk-toggleable__content pre {margin: 0.2em;color: black;border-radius: 0.25em;background-color: #f0f8ff;}#sk-container-id-2 input.sk-toggleable__control:checked~div.sk-toggleable__content {max-height: 200px;max-width: 100%;overflow: auto;}#sk-container-id-2 input.sk-toggleable__control:checked~label.sk-toggleable__label-arrow:before {content: \"▾\";}#sk-container-id-2 div.sk-estimator input.sk-toggleable__control:checked~label.sk-toggleable__label {background-color: #d4ebff;}#sk-container-id-2 div.sk-label input.sk-toggleable__control:checked~label.sk-toggleable__label {background-color: #d4ebff;}#sk-container-id-2 input.sk-hidden--visually {border: 0;clip: rect(1px 1px 1px 1px);clip: rect(1px, 1px, 1px, 1px);height: 1px;margin: -1px;overflow: hidden;padding: 0;position: absolute;width: 1px;}#sk-container-id-2 div.sk-estimator {font-family: monospace;background-color: #f0f8ff;border: 1px dotted black;border-radius: 0.25em;box-sizing: border-box;margin-bottom: 0.5em;}#sk-container-id-2 div.sk-estimator:hover {background-color: #d4ebff;}#sk-container-id-2 div.sk-parallel-item::after {content: \"\";width: 100%;border-bottom: 1px solid gray;flex-grow: 1;}#sk-container-id-2 div.sk-label:hover label.sk-toggleable__label {background-color: #d4ebff;}#sk-container-id-2 div.sk-serial::before {content: \"\";position: absolute;border-left: 1px solid gray;box-sizing: border-box;top: 0;bottom: 0;left: 50%;z-index: 0;}#sk-container-id-2 div.sk-serial {display: flex;flex-direction: column;align-items: center;background-color: white;padding-right: 0.2em;padding-left: 0.2em;position: relative;}#sk-container-id-2 div.sk-item {position: relative;z-index: 1;}#sk-container-id-2 div.sk-parallel {display: flex;align-items: stretch;justify-content: center;background-color: white;position: relative;}#sk-container-id-2 div.sk-item::before, #sk-container-id-2 div.sk-parallel-item::before {content: \"\";position: absolute;border-left: 1px solid gray;box-sizing: border-box;top: 0;bottom: 0;left: 50%;z-index: -1;}#sk-container-id-2 div.sk-parallel-item {display: flex;flex-direction: column;z-index: 1;position: relative;background-color: white;}#sk-container-id-2 div.sk-parallel-item:first-child::after {align-self: flex-end;width: 50%;}#sk-container-id-2 div.sk-parallel-item:last-child::after {align-self: flex-start;width: 50%;}#sk-container-id-2 div.sk-parallel-item:only-child::after {width: 0;}#sk-container-id-2 div.sk-dashed-wrapped {border: 1px dashed gray;margin: 0 0.4em 0.5em 0.4em;box-sizing: border-box;padding-bottom: 0.4em;background-color: white;}#sk-container-id-2 div.sk-label label {font-family: monospace;font-weight: bold;display: inline-block;line-height: 1.2em;}#sk-container-id-2 div.sk-label-container {text-align: center;}#sk-container-id-2 div.sk-container {/* jupyter's `normalize.less` sets `[hidden] { display: none; }` but bootstrap.min.css set `[hidden] { display: none !important; }` so we also need the `!important` here to be able to override the default hidden behavior on the sphinx rendered scikit-learn.org. See: https://github.com/scikit-learn/scikit-learn/issues/21755 */display: inline-block !important;position: relative;}#sk-container-id-2 div.sk-text-repr-fallback {display: none;}</style><div id=\"sk-container-id-2\" class=\"sk-top-container\"><div class=\"sk-text-repr-fallback\"><pre>RandomForestRegressor(max_depth=10, min_samples_leaf=2, n_estimators=200)</pre><b>In a Jupyter environment, please rerun this cell to show the HTML representation or trust the notebook. <br />On GitHub, the HTML representation is unable to render, please try loading this page with nbviewer.org.</b></div><div class=\"sk-container\" hidden><div class=\"sk-item\"><div class=\"sk-estimator sk-toggleable\"><input class=\"sk-toggleable__control sk-hidden--visually\" id=\"sk-estimator-id-2\" type=\"checkbox\" checked><label for=\"sk-estimator-id-2\" class=\"sk-toggleable__label sk-toggleable__label-arrow\">RandomForestRegressor</label><div class=\"sk-toggleable__content\"><pre>RandomForestRegressor(max_depth=10, min_samples_leaf=2, n_estimators=200)</pre></div></div></div></div></div>"
      ]
     },
     "metadata": {},
     "execution_count": 20
    }
   ]
  },
  {
   "cell_type": "code",
   "source": [
    "# Step 1: Create a RandomForestRegressor instance\n",
    "rf_regressor = RandomForestRegressor()\n",
    "\n",
    "# Step 2: Define the hyperparameter grid for Grid Search\n",
    "param_grid = {\n",
    "    'min_samples_split': [2, 5, 10],\n",
    "    'bootstrap': [True, False],\n",
    "    'n_estimators':  [200],\n",
    "    'max_depth': [10],\n",
    "\n",
    "    'min_samples_leaf': [2],\n",
    "\n",
    "}\n",
    "\n",
    "# Step 3: Perform Grid Search using cross-validation to find the best hyperparameters\n",
    "grid_search = GridSearchCV(estimator=rf_regressor, param_grid=param_grid, cv=3, n_jobs=-1)\n",
    "grid_search.fit(X_train, y_train)\n",
    "\n",
    "# Step 4: Train the Random Forest model with the best hyperparameters\n",
    "best_rf_model = grid_search.best_estimator_\n",
    "\n",
    "print(best_rf_model.bootstrap)\n",
    "print(best_rf_model.min_samples_split)\n",
    "\n"
   ],
   "metadata": {
    "colab": {
     "base_uri": "https://localhost:8080/"
    },
    "id": "RL3VxF3sf9W1",
    "outputId": "246b8c0e-57a4-46c1-8b3f-82ae9d6258c0"
   },
   "execution_count": 21,
   "outputs": [
    {
     "output_type": "stream",
     "name": "stdout",
     "text": [
      "True\n",
      "2\n"
     ]
    }
   ]
  },
  {
   "cell_type": "code",
   "source": [
    "\n",
    "rf_regressor = RandomForestRegressor()\n",
    "\n",
    "param_grid = {\n",
    "    'n_estimators':  [200],\n",
    "    'max_depth': [10],\n",
    "    'min_samples_split': [2],\n",
    "    'min_samples_leaf': [2],\n",
    "    'bootstrap': [True],\n",
    "}\n",
    "\n",
    "grid_search = GridSearchCV(estimator=rf_regressor, param_grid=param_grid, cv=3, n_jobs=-1)\n",
    "grid_search.fit(X_train, y_train)\n",
    "\n",
    "\n",
    "best_rf_model = grid_search.best_estimator_\n",
    "\n",
    "best_rf_model\n",
    "\n",
    "y_pred = best_rf_model.predict(X_test)\n",
    "\n",
    "\n",
    "mse = mean_squared_error(y_test, y_pred)\n",
    "print(\"Mean Squared Error:\", mse)"
   ],
   "metadata": {
    "colab": {
     "base_uri": "https://localhost:8080/"
    },
    "id": "qYdPCnbHhRi0",
    "outputId": "9da7e0a2-f8d3-4440-f68c-88920ee4e95a"
   },
   "execution_count": 22,
   "outputs": [
    {
     "output_type": "stream",
     "name": "stdout",
     "text": [
      "Mean Squared Error: 0.02311988327729601\n"
     ]
    }
   ]
  },
  {
   "cell_type": "markdown",
   "source": [
    "Method 2: Gradient Boosting Regressor"
   ],
   "metadata": {
    "id": "X2Aq3JKICbXY"
   }
  },
  {
   "cell_type": "code",
   "source": [
    "from sklearn.ensemble import GradientBoostingRegressor\n",
    "from sklearn.model_selection import GridSearchCV\n",
    "from sklearn.metrics import mean_squared_error\n",
    "\n",
    "# Step 1: Create a GradientBoostingRegressor instance\n",
    "gb_regressor = GradientBoostingRegressor()\n",
    "\n",
    "# Step 2: Define the hyperparameter grid for Grid Search\n",
    "param_grid = {\n",
    "    'n_estimators': [50, 100, 200],\n",
    "    'learning_rate': [0.01, 0.1, 0.2],\n",
    "\n",
    "}\n",
    "\n",
    "# Step 3: Perform Grid Search using cross-validation to find the best hyperparameters\n",
    "grid_search = GridSearchCV(estimator=gb_regressor, param_grid=param_grid, cv=3, n_jobs=-1)\n",
    "grid_search.fit(X_train, y_train)\n",
    "\n",
    "# Step 4: Train the Gradient Boosting model with the best hyperparameters\n",
    "best_gb_model = grid_search.best_estimator_\n",
    "best_gb_model\n"
   ],
   "metadata": {
    "id": "Gs24aHSPCfWa",
    "colab": {
     "base_uri": "https://localhost:8080/",
     "height": 75
    },
    "outputId": "4e76c3e2-a267-44aa-be40-2505808bcbd8"
   },
   "execution_count": 30,
   "outputs": [
    {
     "output_type": "execute_result",
     "data": {
      "text/plain": [
       "GradientBoostingRegressor(learning_rate=0.2, n_estimators=50)"
      ],
      "text/html": [
       "<style>#sk-container-id-5 {color: black;background-color: white;}#sk-container-id-5 pre{padding: 0;}#sk-container-id-5 div.sk-toggleable {background-color: white;}#sk-container-id-5 label.sk-toggleable__label {cursor: pointer;display: block;width: 100%;margin-bottom: 0;padding: 0.3em;box-sizing: border-box;text-align: center;}#sk-container-id-5 label.sk-toggleable__label-arrow:before {content: \"▸\";float: left;margin-right: 0.25em;color: #696969;}#sk-container-id-5 label.sk-toggleable__label-arrow:hover:before {color: black;}#sk-container-id-5 div.sk-estimator:hover label.sk-toggleable__label-arrow:before {color: black;}#sk-container-id-5 div.sk-toggleable__content {max-height: 0;max-width: 0;overflow: hidden;text-align: left;background-color: #f0f8ff;}#sk-container-id-5 div.sk-toggleable__content pre {margin: 0.2em;color: black;border-radius: 0.25em;background-color: #f0f8ff;}#sk-container-id-5 input.sk-toggleable__control:checked~div.sk-toggleable__content {max-height: 200px;max-width: 100%;overflow: auto;}#sk-container-id-5 input.sk-toggleable__control:checked~label.sk-toggleable__label-arrow:before {content: \"▾\";}#sk-container-id-5 div.sk-estimator input.sk-toggleable__control:checked~label.sk-toggleable__label {background-color: #d4ebff;}#sk-container-id-5 div.sk-label input.sk-toggleable__control:checked~label.sk-toggleable__label {background-color: #d4ebff;}#sk-container-id-5 input.sk-hidden--visually {border: 0;clip: rect(1px 1px 1px 1px);clip: rect(1px, 1px, 1px, 1px);height: 1px;margin: -1px;overflow: hidden;padding: 0;position: absolute;width: 1px;}#sk-container-id-5 div.sk-estimator {font-family: monospace;background-color: #f0f8ff;border: 1px dotted black;border-radius: 0.25em;box-sizing: border-box;margin-bottom: 0.5em;}#sk-container-id-5 div.sk-estimator:hover {background-color: #d4ebff;}#sk-container-id-5 div.sk-parallel-item::after {content: \"\";width: 100%;border-bottom: 1px solid gray;flex-grow: 1;}#sk-container-id-5 div.sk-label:hover label.sk-toggleable__label {background-color: #d4ebff;}#sk-container-id-5 div.sk-serial::before {content: \"\";position: absolute;border-left: 1px solid gray;box-sizing: border-box;top: 0;bottom: 0;left: 50%;z-index: 0;}#sk-container-id-5 div.sk-serial {display: flex;flex-direction: column;align-items: center;background-color: white;padding-right: 0.2em;padding-left: 0.2em;position: relative;}#sk-container-id-5 div.sk-item {position: relative;z-index: 1;}#sk-container-id-5 div.sk-parallel {display: flex;align-items: stretch;justify-content: center;background-color: white;position: relative;}#sk-container-id-5 div.sk-item::before, #sk-container-id-5 div.sk-parallel-item::before {content: \"\";position: absolute;border-left: 1px solid gray;box-sizing: border-box;top: 0;bottom: 0;left: 50%;z-index: -1;}#sk-container-id-5 div.sk-parallel-item {display: flex;flex-direction: column;z-index: 1;position: relative;background-color: white;}#sk-container-id-5 div.sk-parallel-item:first-child::after {align-self: flex-end;width: 50%;}#sk-container-id-5 div.sk-parallel-item:last-child::after {align-self: flex-start;width: 50%;}#sk-container-id-5 div.sk-parallel-item:only-child::after {width: 0;}#sk-container-id-5 div.sk-dashed-wrapped {border: 1px dashed gray;margin: 0 0.4em 0.5em 0.4em;box-sizing: border-box;padding-bottom: 0.4em;background-color: white;}#sk-container-id-5 div.sk-label label {font-family: monospace;font-weight: bold;display: inline-block;line-height: 1.2em;}#sk-container-id-5 div.sk-label-container {text-align: center;}#sk-container-id-5 div.sk-container {/* jupyter's `normalize.less` sets `[hidden] { display: none; }` but bootstrap.min.css set `[hidden] { display: none !important; }` so we also need the `!important` here to be able to override the default hidden behavior on the sphinx rendered scikit-learn.org. See: https://github.com/scikit-learn/scikit-learn/issues/21755 */display: inline-block !important;position: relative;}#sk-container-id-5 div.sk-text-repr-fallback {display: none;}</style><div id=\"sk-container-id-5\" class=\"sk-top-container\"><div class=\"sk-text-repr-fallback\"><pre>GradientBoostingRegressor(learning_rate=0.2, n_estimators=50)</pre><b>In a Jupyter environment, please rerun this cell to show the HTML representation or trust the notebook. <br />On GitHub, the HTML representation is unable to render, please try loading this page with nbviewer.org.</b></div><div class=\"sk-container\" hidden><div class=\"sk-item\"><div class=\"sk-estimator sk-toggleable\"><input class=\"sk-toggleable__control sk-hidden--visually\" id=\"sk-estimator-id-5\" type=\"checkbox\" checked><label for=\"sk-estimator-id-5\" class=\"sk-toggleable__label sk-toggleable__label-arrow\">GradientBoostingRegressor</label><div class=\"sk-toggleable__content\"><pre>GradientBoostingRegressor(learning_rate=0.2, n_estimators=50)</pre></div></div></div></div></div>"
      ]
     },
     "metadata": {},
     "execution_count": 30
    }
   ]
  },
  {
   "cell_type": "code",
   "source": [
    "from sklearn.ensemble import GradientBoostingRegressor\n",
    "from sklearn.model_selection import GridSearchCV\n",
    "from sklearn.metrics import mean_squared_error\n",
    "\n",
    "# Step 1: Create a GradientBoostingRegressor instance\n",
    "gb_regressor = GradientBoostingRegressor()\n",
    "\n",
    "# Step 2: Define the hyperparameter grid for Grid Search\n",
    "param_grid = {\n",
    "    'n_estimators': [50],\n",
    "    'learning_rate': [ 0.2],\n",
    "    'max_depth': [3, 5, None],\n",
    "    'min_samples_split': [2, 5, 10],\n",
    "\n",
    "}\n",
    "\n",
    "# Step 3: Perform Grid Search using cross-validation to find the best hyperparameters\n",
    "grid_search = GridSearchCV(estimator=gb_regressor, param_grid=param_grid, cv=3, n_jobs=-1)\n",
    "grid_search.fit(X_train, y_train)\n",
    "\n",
    "# Step 4: Train the Gradient Boosting model with the best hyperparameters\n",
    "best_gb_model = grid_search.best_estimator_\n",
    "best_gb_model"
   ],
   "metadata": {
    "colab": {
     "base_uri": "https://localhost:8080/",
     "height": 93
    },
    "id": "wM7HzoCZ3eVC",
    "outputId": "79ec63bb-df47-4de8-b003-d541ac8f901d"
   },
   "execution_count": 33,
   "outputs": [
    {
     "output_type": "execute_result",
     "data": {
      "text/plain": [
       "GradientBoostingRegressor(learning_rate=0.2, min_samples_split=10,\n",
       "                          n_estimators=50)"
      ],
      "text/html": [
       "<style>#sk-container-id-6 {color: black;background-color: white;}#sk-container-id-6 pre{padding: 0;}#sk-container-id-6 div.sk-toggleable {background-color: white;}#sk-container-id-6 label.sk-toggleable__label {cursor: pointer;display: block;width: 100%;margin-bottom: 0;padding: 0.3em;box-sizing: border-box;text-align: center;}#sk-container-id-6 label.sk-toggleable__label-arrow:before {content: \"▸\";float: left;margin-right: 0.25em;color: #696969;}#sk-container-id-6 label.sk-toggleable__label-arrow:hover:before {color: black;}#sk-container-id-6 div.sk-estimator:hover label.sk-toggleable__label-arrow:before {color: black;}#sk-container-id-6 div.sk-toggleable__content {max-height: 0;max-width: 0;overflow: hidden;text-align: left;background-color: #f0f8ff;}#sk-container-id-6 div.sk-toggleable__content pre {margin: 0.2em;color: black;border-radius: 0.25em;background-color: #f0f8ff;}#sk-container-id-6 input.sk-toggleable__control:checked~div.sk-toggleable__content {max-height: 200px;max-width: 100%;overflow: auto;}#sk-container-id-6 input.sk-toggleable__control:checked~label.sk-toggleable__label-arrow:before {content: \"▾\";}#sk-container-id-6 div.sk-estimator input.sk-toggleable__control:checked~label.sk-toggleable__label {background-color: #d4ebff;}#sk-container-id-6 div.sk-label input.sk-toggleable__control:checked~label.sk-toggleable__label {background-color: #d4ebff;}#sk-container-id-6 input.sk-hidden--visually {border: 0;clip: rect(1px 1px 1px 1px);clip: rect(1px, 1px, 1px, 1px);height: 1px;margin: -1px;overflow: hidden;padding: 0;position: absolute;width: 1px;}#sk-container-id-6 div.sk-estimator {font-family: monospace;background-color: #f0f8ff;border: 1px dotted black;border-radius: 0.25em;box-sizing: border-box;margin-bottom: 0.5em;}#sk-container-id-6 div.sk-estimator:hover {background-color: #d4ebff;}#sk-container-id-6 div.sk-parallel-item::after {content: \"\";width: 100%;border-bottom: 1px solid gray;flex-grow: 1;}#sk-container-id-6 div.sk-label:hover label.sk-toggleable__label {background-color: #d4ebff;}#sk-container-id-6 div.sk-serial::before {content: \"\";position: absolute;border-left: 1px solid gray;box-sizing: border-box;top: 0;bottom: 0;left: 50%;z-index: 0;}#sk-container-id-6 div.sk-serial {display: flex;flex-direction: column;align-items: center;background-color: white;padding-right: 0.2em;padding-left: 0.2em;position: relative;}#sk-container-id-6 div.sk-item {position: relative;z-index: 1;}#sk-container-id-6 div.sk-parallel {display: flex;align-items: stretch;justify-content: center;background-color: white;position: relative;}#sk-container-id-6 div.sk-item::before, #sk-container-id-6 div.sk-parallel-item::before {content: \"\";position: absolute;border-left: 1px solid gray;box-sizing: border-box;top: 0;bottom: 0;left: 50%;z-index: -1;}#sk-container-id-6 div.sk-parallel-item {display: flex;flex-direction: column;z-index: 1;position: relative;background-color: white;}#sk-container-id-6 div.sk-parallel-item:first-child::after {align-self: flex-end;width: 50%;}#sk-container-id-6 div.sk-parallel-item:last-child::after {align-self: flex-start;width: 50%;}#sk-container-id-6 div.sk-parallel-item:only-child::after {width: 0;}#sk-container-id-6 div.sk-dashed-wrapped {border: 1px dashed gray;margin: 0 0.4em 0.5em 0.4em;box-sizing: border-box;padding-bottom: 0.4em;background-color: white;}#sk-container-id-6 div.sk-label label {font-family: monospace;font-weight: bold;display: inline-block;line-height: 1.2em;}#sk-container-id-6 div.sk-label-container {text-align: center;}#sk-container-id-6 div.sk-container {/* jupyter's `normalize.less` sets `[hidden] { display: none; }` but bootstrap.min.css set `[hidden] { display: none !important; }` so we also need the `!important` here to be able to override the default hidden behavior on the sphinx rendered scikit-learn.org. See: https://github.com/scikit-learn/scikit-learn/issues/21755 */display: inline-block !important;position: relative;}#sk-container-id-6 div.sk-text-repr-fallback {display: none;}</style><div id=\"sk-container-id-6\" class=\"sk-top-container\"><div class=\"sk-text-repr-fallback\"><pre>GradientBoostingRegressor(learning_rate=0.2, min_samples_split=10,\n",
       "                          n_estimators=50)</pre><b>In a Jupyter environment, please rerun this cell to show the HTML representation or trust the notebook. <br />On GitHub, the HTML representation is unable to render, please try loading this page with nbviewer.org.</b></div><div class=\"sk-container\" hidden><div class=\"sk-item\"><div class=\"sk-estimator sk-toggleable\"><input class=\"sk-toggleable__control sk-hidden--visually\" id=\"sk-estimator-id-6\" type=\"checkbox\" checked><label for=\"sk-estimator-id-6\" class=\"sk-toggleable__label sk-toggleable__label-arrow\">GradientBoostingRegressor</label><div class=\"sk-toggleable__content\"><pre>GradientBoostingRegressor(learning_rate=0.2, min_samples_split=10,\n",
       "                          n_estimators=50)</pre></div></div></div></div></div>"
      ]
     },
     "metadata": {},
     "execution_count": 33
    }
   ]
  },
  {
   "cell_type": "code",
   "source": [
    "best_gb_model.max_depth"
   ],
   "metadata": {
    "colab": {
     "base_uri": "https://localhost:8080/"
    },
    "id": "aZcLZ-JB34bb",
    "outputId": "5b5d156f-d515-497a-803f-3fda4fd2bb2b"
   },
   "execution_count": 34,
   "outputs": [
    {
     "output_type": "execute_result",
     "data": {
      "text/plain": [
       "3"
      ]
     },
     "metadata": {},
     "execution_count": 34
    }
   ]
  },
  {
   "cell_type": "code",
   "source": [
    "from sklearn.ensemble import GradientBoostingRegressor\n",
    "from sklearn.model_selection import GridSearchCV\n",
    "from sklearn.metrics import mean_squared_error\n",
    "\n",
    "\n",
    "gb_regressor = GradientBoostingRegressor()\n",
    "param_grid = {\n",
    "    'n_estimators': [50],\n",
    "    'learning_rate': [ 0.2],\n",
    "    'max_depth': [3],\n",
    "    'min_samples_split': [10],\n",
    "    'min_samples_leaf': [1, 2, 4]\n",
    "}\n",
    "grid_search = GridSearchCV(estimator=gb_regressor, param_grid=param_grid, cv=3, n_jobs=-1)\n",
    "grid_search.fit(X_train, y_train)\n",
    "best_gb_model = grid_search.best_estimator_\n",
    "y_pred = best_gb_model.predict(X_test)\n",
    "mse = mean_squared_error(y_test, y_pred)\n",
    "print(\"Mean Squared Error:\", mse)"
   ],
   "metadata": {
    "colab": {
     "base_uri": "https://localhost:8080/"
    },
    "id": "sAaQoLcM3ueS",
    "outputId": "901d5f29-39c7-4d64-85ff-95fb3f2c2340"
   },
   "execution_count": 35,
   "outputs": [
    {
     "output_type": "stream",
     "name": "stdout",
     "text": [
      "Mean Squared Error: 0.022290325134393746\n"
     ]
    }
   ]
  },
  {
   "cell_type": "markdown",
   "source": [
    "Method 3: SVM (Support Vector Machines)"
   ],
   "metadata": {
    "id": "BLS6G64vCmET"
   }
  },
  {
   "cell_type": "code",
   "source": [
    "from sklearn.svm import SVR\n",
    "from sklearn.model_selection import GridSearchCV\n",
    "from sklearn.metrics import mean_squared_error\n",
    "\n",
    "# Step 1: Create an SVR (Support Vector Regressor) instance\n",
    "svm_regressor = SVR()\n",
    "\n",
    "# Step 2: Define the hyperparameter grid for Grid Search\n",
    "param_grid = {\n",
    "    'C': [0.1, 1, 10],\n",
    "    'kernel': ['linear', 'rbf', 'poly'],\n",
    "\n",
    "}\n",
    "\n",
    "# Step 3: Perform Grid Search using cross-validation to find the best hyperparameters\n",
    "grid_search = GridSearchCV(estimator=svm_regressor, param_grid=param_grid, cv=3, n_jobs=-1)\n",
    "grid_search.fit(X_train, y_train)\n",
    "\n",
    "# Step 4: Train the SVR model with the best hyperparameters\n",
    "best_svm_model = grid_search.best_estimator_\n",
    "\n"
   ],
   "metadata": {
    "id": "Bm4PNZcjCojy"
   },
   "execution_count": 24,
   "outputs": []
  },
  {
   "cell_type": "code",
   "source": [
    "best_svm_model"
   ],
   "metadata": {
    "colab": {
     "base_uri": "https://localhost:8080/",
     "height": 75
    },
    "id": "YTodcWTSzng2",
    "outputId": "c4b671b7-329a-4955-b917-570af8a71f87"
   },
   "execution_count": 25,
   "outputs": [
    {
     "output_type": "execute_result",
     "data": {
      "text/plain": [
       "SVR(C=10, kernel='poly')"
      ],
      "text/html": [
       "<style>#sk-container-id-3 {color: black;background-color: white;}#sk-container-id-3 pre{padding: 0;}#sk-container-id-3 div.sk-toggleable {background-color: white;}#sk-container-id-3 label.sk-toggleable__label {cursor: pointer;display: block;width: 100%;margin-bottom: 0;padding: 0.3em;box-sizing: border-box;text-align: center;}#sk-container-id-3 label.sk-toggleable__label-arrow:before {content: \"▸\";float: left;margin-right: 0.25em;color: #696969;}#sk-container-id-3 label.sk-toggleable__label-arrow:hover:before {color: black;}#sk-container-id-3 div.sk-estimator:hover label.sk-toggleable__label-arrow:before {color: black;}#sk-container-id-3 div.sk-toggleable__content {max-height: 0;max-width: 0;overflow: hidden;text-align: left;background-color: #f0f8ff;}#sk-container-id-3 div.sk-toggleable__content pre {margin: 0.2em;color: black;border-radius: 0.25em;background-color: #f0f8ff;}#sk-container-id-3 input.sk-toggleable__control:checked~div.sk-toggleable__content {max-height: 200px;max-width: 100%;overflow: auto;}#sk-container-id-3 input.sk-toggleable__control:checked~label.sk-toggleable__label-arrow:before {content: \"▾\";}#sk-container-id-3 div.sk-estimator input.sk-toggleable__control:checked~label.sk-toggleable__label {background-color: #d4ebff;}#sk-container-id-3 div.sk-label input.sk-toggleable__control:checked~label.sk-toggleable__label {background-color: #d4ebff;}#sk-container-id-3 input.sk-hidden--visually {border: 0;clip: rect(1px 1px 1px 1px);clip: rect(1px, 1px, 1px, 1px);height: 1px;margin: -1px;overflow: hidden;padding: 0;position: absolute;width: 1px;}#sk-container-id-3 div.sk-estimator {font-family: monospace;background-color: #f0f8ff;border: 1px dotted black;border-radius: 0.25em;box-sizing: border-box;margin-bottom: 0.5em;}#sk-container-id-3 div.sk-estimator:hover {background-color: #d4ebff;}#sk-container-id-3 div.sk-parallel-item::after {content: \"\";width: 100%;border-bottom: 1px solid gray;flex-grow: 1;}#sk-container-id-3 div.sk-label:hover label.sk-toggleable__label {background-color: #d4ebff;}#sk-container-id-3 div.sk-serial::before {content: \"\";position: absolute;border-left: 1px solid gray;box-sizing: border-box;top: 0;bottom: 0;left: 50%;z-index: 0;}#sk-container-id-3 div.sk-serial {display: flex;flex-direction: column;align-items: center;background-color: white;padding-right: 0.2em;padding-left: 0.2em;position: relative;}#sk-container-id-3 div.sk-item {position: relative;z-index: 1;}#sk-container-id-3 div.sk-parallel {display: flex;align-items: stretch;justify-content: center;background-color: white;position: relative;}#sk-container-id-3 div.sk-item::before, #sk-container-id-3 div.sk-parallel-item::before {content: \"\";position: absolute;border-left: 1px solid gray;box-sizing: border-box;top: 0;bottom: 0;left: 50%;z-index: -1;}#sk-container-id-3 div.sk-parallel-item {display: flex;flex-direction: column;z-index: 1;position: relative;background-color: white;}#sk-container-id-3 div.sk-parallel-item:first-child::after {align-self: flex-end;width: 50%;}#sk-container-id-3 div.sk-parallel-item:last-child::after {align-self: flex-start;width: 50%;}#sk-container-id-3 div.sk-parallel-item:only-child::after {width: 0;}#sk-container-id-3 div.sk-dashed-wrapped {border: 1px dashed gray;margin: 0 0.4em 0.5em 0.4em;box-sizing: border-box;padding-bottom: 0.4em;background-color: white;}#sk-container-id-3 div.sk-label label {font-family: monospace;font-weight: bold;display: inline-block;line-height: 1.2em;}#sk-container-id-3 div.sk-label-container {text-align: center;}#sk-container-id-3 div.sk-container {/* jupyter's `normalize.less` sets `[hidden] { display: none; }` but bootstrap.min.css set `[hidden] { display: none !important; }` so we also need the `!important` here to be able to override the default hidden behavior on the sphinx rendered scikit-learn.org. See: https://github.com/scikit-learn/scikit-learn/issues/21755 */display: inline-block !important;position: relative;}#sk-container-id-3 div.sk-text-repr-fallback {display: none;}</style><div id=\"sk-container-id-3\" class=\"sk-top-container\"><div class=\"sk-text-repr-fallback\"><pre>SVR(C=10, kernel=&#x27;poly&#x27;)</pre><b>In a Jupyter environment, please rerun this cell to show the HTML representation or trust the notebook. <br />On GitHub, the HTML representation is unable to render, please try loading this page with nbviewer.org.</b></div><div class=\"sk-container\" hidden><div class=\"sk-item\"><div class=\"sk-estimator sk-toggleable\"><input class=\"sk-toggleable__control sk-hidden--visually\" id=\"sk-estimator-id-3\" type=\"checkbox\" checked><label for=\"sk-estimator-id-3\" class=\"sk-toggleable__label sk-toggleable__label-arrow\">SVR</label><div class=\"sk-toggleable__content\"><pre>SVR(C=10, kernel=&#x27;poly&#x27;)</pre></div></div></div></div></div>"
      ]
     },
     "metadata": {},
     "execution_count": 25
    }
   ]
  },
  {
   "cell_type": "code",
   "source": [
    "from sklearn.svm import SVR\n",
    "from sklearn.model_selection import GridSearchCV\n",
    "from sklearn.metrics import mean_squared_error\n",
    "\n",
    "# Step 1: Create an SVR (Support Vector Regressor) instance\n",
    "svm_regressor = SVR()\n",
    "\n",
    "# Step 2: Define the hyperparameter grid for Grid Search\n",
    "param_grid = {\n",
    "    'C': [10],\n",
    "    'kernel': ['poly'],\n",
    "    'gamma': ['scale', 'auto', 0.1, 0.01],\n",
    "}\n",
    "\n",
    "# Step 3: Perform Grid Search using cross-validation to find the best hyperparameters\n",
    "grid_search = GridSearchCV(estimator=svm_regressor, param_grid=param_grid, cv=3, n_jobs=-1)\n",
    "grid_search.fit(X_train, y_train)\n",
    "\n",
    "# Step 4: Train the SVR model with the best hyperparameters\n",
    "best_svm_model = grid_search.best_estimator_\n",
    "best_svm_model"
   ],
   "metadata": {
    "colab": {
     "base_uri": "https://localhost:8080/",
     "height": 36
    },
    "id": "cxNyIziKzqfh",
    "outputId": "9c90257c-b652-4823-dae6-4a873c4cc238"
   },
   "execution_count": 28,
   "outputs": [
    {
     "output_type": "execute_result",
     "data": {
      "text/plain": [
       "'scale'"
      ],
      "application/vnd.google.colaboratory.intrinsic+json": {
       "type": "string"
      }
     },
     "metadata": {},
     "execution_count": 28
    }
   ]
  },
  {
   "cell_type": "code",
   "source": [
    "from sklearn.svm import SVR\n",
    "from sklearn.model_selection import GridSearchCV\n",
    "from sklearn.metrics import mean_squared_error\n",
    "\n",
    "\n",
    "svm_regressor = SVR()\n",
    "\n",
    "\n",
    "param_grid = {\n",
    "    'C': [10],\n",
    "    'kernel': ['poly'],\n",
    "    'gamma': ['scale'],\n",
    "}\n",
    "\n",
    "grid_search = GridSearchCV(estimator=svm_regressor, param_grid=param_grid, cv=3, n_jobs=-1)\n",
    "grid_search.fit(X_train, y_train)\n",
    "best_svm_model = grid_search.best_estimator_\n",
    "y_pred = best_svm_model.predict(X_test)\n",
    "mse = mean_squared_error(y_test, y_pred)\n",
    "print(\"Mean Squared Error:\", mse)"
   ],
   "metadata": {
    "colab": {
     "base_uri": "https://localhost:8080/"
    },
    "id": "XK-QJBEA3BDZ",
    "outputId": "915e07f4-b11c-425d-f738-befb29f193af"
   },
   "execution_count": 29,
   "outputs": [
    {
     "output_type": "stream",
     "name": "stdout",
     "text": [
      "Mean Squared Error: 0.06140033616603359\n"
     ]
    }
   ]
  },
  {
   "cell_type": "markdown",
   "source": [
    "\n",
    "The culmination of our machine learning project has led us to identify the Gradient Boosting Regressor as the most effective predictive model, outshining its competitors, namely Random Forest and Support Vector Machine (SVM). The model's remarkable performance is evident from its consistently low Mean Squared Error (MSE), indicating its ability to accurately capture complex relationships within the dataset. Through meticulous hyperparameter tuning and ensemble techniques, the Gradient Boosting Regressor demonstrated its superiority by delivering precise predictions and minimizing overfitting. The implications of this achievement extend to various domains, empowering decision-makers with valuable insights and bolstering data-driven initiatives. This successful endeavor highlights the potential of sophisticated machine learning techniques in addressing real-world challenges and signifies a significant step towards a future where data-driven innovation and progress flourish.\n",
    "\n",
    "\n",
    "\n",
    "\n",
    "\n"
   ],
   "metadata": {
    "id": "-sl5h5tu4zRO"
   }
  }
 ],
 "metadata": {
  "colab": {
   "toc_visible": true,
   "provenance": []
  },
  "kernelspec": {
   "display_name": "Python 3",
   "name": "python3"
  },
  "language_info": {
   "name": "python"
  }
 },
 "nbformat": 4,
 "nbformat_minor": 0
}
